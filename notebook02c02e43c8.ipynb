{
 "cells": [
  {
   "cell_type": "code",
   "execution_count": 1,
   "id": "7c2db070",
   "metadata": {
    "_cell_guid": "b1076dfc-b9ad-4769-8c92-a6c4dae69d19",
    "_uuid": "8f2839f25d086af736a60e9eeb907d3b93b6e0e5",
    "execution": {
     "iopub.execute_input": "2023-11-23T03:31:46.631064Z",
     "iopub.status.busy": "2023-11-23T03:31:46.630712Z",
     "iopub.status.idle": "2023-11-23T03:31:46.938471Z",
     "shell.execute_reply": "2023-11-23T03:31:46.936864Z"
    },
    "papermill": {
     "duration": 0.314922,
     "end_time": "2023-11-23T03:31:46.940609",
     "exception": false,
     "start_time": "2023-11-23T03:31:46.625687",
     "status": "completed"
    },
    "tags": []
   },
   "outputs": [
    {
     "name": "stdout",
     "output_type": "stream",
     "text": [
      "/kaggle/input/child-mind-institute-detect-sleep-states/train_series.parquet\n",
      "/kaggle/input/child-mind-institute-detect-sleep-states/sample_submission.csv\n",
      "/kaggle/input/child-mind-institute-detect-sleep-states/train_events.csv\n",
      "/kaggle/input/child-mind-institute-detect-sleep-states/test_series.parquet\n"
     ]
    }
   ],
   "source": [
    "# This Python 3 environment comes with many helpful analytics libraries installed\n",
    "# It is defined by the kaggle/python Docker image: https://github.com/kaggle/docker-python\n",
    "# For example, here's several helpful packages to load\n",
    "\n",
    "import numpy as np # linear algebra\n",
    "import pandas as pd # data processing, CSV file I/O (e.g. pd.read_csv)\n",
    "from datetime import datetime as dts\n",
    "from tqdm import tqdm\n",
    "# Input data files are available in the read-only \"../input/\" directory\n",
    "# For example, running this (by clicking run or pressing Shift+Enter) will list all files under the input directory\n",
    "\n",
    "import os\n",
    "for dirname, _, filenames in os.walk('/kaggle/input'):\n",
    "    for filename in filenames:\n",
    "        print(os.path.join(dirname, filename))\n",
    "tqdm.pandas()\n",
    "# You can write up to 20GB to the current directory (/kaggle/working/) that gets preserved as output when you create a version using \"Save & Run All\" \n",
    "# You can also write temporary files to /kaggle/temp/, but they won't be saved outside of the current session"
   ]
  },
  {
   "cell_type": "code",
   "execution_count": 2,
   "id": "7327a463",
   "metadata": {
    "execution": {
     "iopub.execute_input": "2023-11-23T03:31:46.952140Z",
     "iopub.status.busy": "2023-11-23T03:31:46.951590Z",
     "iopub.status.idle": "2023-11-23T03:32:43.213142Z",
     "shell.execute_reply": "2023-11-23T03:32:43.211922Z"
    },
    "papermill": {
     "duration": 56.268359,
     "end_time": "2023-11-23T03:32:43.215271",
     "exception": false,
     "start_time": "2023-11-23T03:31:46.946912",
     "status": "completed"
    },
    "tags": []
   },
   "outputs": [],
   "source": [
    "df_series=pd.read_parquet(path=\"/kaggle/input/child-mind-institute-detect-sleep-states/train_series.parquet\", engine='auto')"
   ]
  },
  {
   "cell_type": "code",
   "execution_count": 3,
   "id": "9ace2de5",
   "metadata": {
    "execution": {
     "iopub.execute_input": "2023-11-23T03:32:43.223203Z",
     "iopub.status.busy": "2023-11-23T03:32:43.222824Z",
     "iopub.status.idle": "2023-11-23T03:32:43.261218Z",
     "shell.execute_reply": "2023-11-23T03:32:43.259863Z"
    },
    "papermill": {
     "duration": 0.045623,
     "end_time": "2023-11-23T03:32:43.263964",
     "exception": false,
     "start_time": "2023-11-23T03:32:43.218341",
     "status": "completed"
    },
    "tags": []
   },
   "outputs": [],
   "source": [
    "df_events=pd.read_csv(\"/kaggle/input/child-mind-institute-detect-sleep-states/train_events.csv\")"
   ]
  },
  {
   "cell_type": "code",
   "execution_count": 4,
   "id": "1ccd4d6f",
   "metadata": {
    "execution": {
     "iopub.execute_input": "2023-11-23T03:32:43.271807Z",
     "iopub.status.busy": "2023-11-23T03:32:43.271416Z",
     "iopub.status.idle": "2023-11-23T03:32:43.277475Z",
     "shell.execute_reply": "2023-11-23T03:32:43.276031Z"
    },
    "papermill": {
     "duration": 0.01267,
     "end_time": "2023-11-23T03:32:43.279906",
     "exception": false,
     "start_time": "2023-11-23T03:32:43.267236",
     "status": "completed"
    },
    "tags": []
   },
   "outputs": [],
   "source": [
    "def data_preparation(df):\n",
    "    df['timestamp'] = pd.to_datetime(df['timestamp'], utc=True,)\n",
    "    df['step']=pd.to_numeric(df['step'])\n",
    "    print('.',end=\"\")\n",
    "    return(df)\n"
   ]
  },
  {
   "cell_type": "code",
   "execution_count": 5,
   "id": "df842c9e",
   "metadata": {
    "execution": {
     "iopub.execute_input": "2023-11-23T03:32:43.287824Z",
     "iopub.status.busy": "2023-11-23T03:32:43.287476Z",
     "iopub.status.idle": "2023-11-23T03:32:43.306581Z",
     "shell.execute_reply": "2023-11-23T03:32:43.305059Z"
    },
    "papermill": {
     "duration": 0.02654,
     "end_time": "2023-11-23T03:32:43.309738",
     "exception": false,
     "start_time": "2023-11-23T03:32:43.283198",
     "status": "completed"
    },
    "tags": []
   },
   "outputs": [
    {
     "data": {
      "text/html": [
       "<div>\n",
       "<style scoped>\n",
       "    .dataframe tbody tr th:only-of-type {\n",
       "        vertical-align: middle;\n",
       "    }\n",
       "\n",
       "    .dataframe tbody tr th {\n",
       "        vertical-align: top;\n",
       "    }\n",
       "\n",
       "    .dataframe thead th {\n",
       "        text-align: right;\n",
       "    }\n",
       "</style>\n",
       "<table border=\"1\" class=\"dataframe\">\n",
       "  <thead>\n",
       "    <tr style=\"text-align: right;\">\n",
       "      <th></th>\n",
       "      <th>series_id</th>\n",
       "      <th>night</th>\n",
       "      <th>event</th>\n",
       "      <th>step</th>\n",
       "      <th>timestamp</th>\n",
       "    </tr>\n",
       "  </thead>\n",
       "  <tbody>\n",
       "    <tr>\n",
       "      <th>0</th>\n",
       "      <td>038441c925bb</td>\n",
       "      <td>1</td>\n",
       "      <td>onset</td>\n",
       "      <td>4992.0</td>\n",
       "      <td>2018-08-14T22:26:00-0400</td>\n",
       "    </tr>\n",
       "    <tr>\n",
       "      <th>1</th>\n",
       "      <td>038441c925bb</td>\n",
       "      <td>1</td>\n",
       "      <td>wakeup</td>\n",
       "      <td>10932.0</td>\n",
       "      <td>2018-08-15T06:41:00-0400</td>\n",
       "    </tr>\n",
       "    <tr>\n",
       "      <th>2</th>\n",
       "      <td>038441c925bb</td>\n",
       "      <td>2</td>\n",
       "      <td>onset</td>\n",
       "      <td>20244.0</td>\n",
       "      <td>2018-08-15T19:37:00-0400</td>\n",
       "    </tr>\n",
       "    <tr>\n",
       "      <th>3</th>\n",
       "      <td>038441c925bb</td>\n",
       "      <td>2</td>\n",
       "      <td>wakeup</td>\n",
       "      <td>27492.0</td>\n",
       "      <td>2018-08-16T05:41:00-0400</td>\n",
       "    </tr>\n",
       "    <tr>\n",
       "      <th>4</th>\n",
       "      <td>038441c925bb</td>\n",
       "      <td>3</td>\n",
       "      <td>onset</td>\n",
       "      <td>39996.0</td>\n",
       "      <td>2018-08-16T23:03:00-0400</td>\n",
       "    </tr>\n",
       "  </tbody>\n",
       "</table>\n",
       "</div>"
      ],
      "text/plain": [
       "      series_id  night   event     step                 timestamp\n",
       "0  038441c925bb      1   onset   4992.0  2018-08-14T22:26:00-0400\n",
       "1  038441c925bb      1  wakeup  10932.0  2018-08-15T06:41:00-0400\n",
       "2  038441c925bb      2   onset  20244.0  2018-08-15T19:37:00-0400\n",
       "3  038441c925bb      2  wakeup  27492.0  2018-08-16T05:41:00-0400\n",
       "4  038441c925bb      3   onset  39996.0  2018-08-16T23:03:00-0400"
      ]
     },
     "execution_count": 5,
     "metadata": {},
     "output_type": "execute_result"
    }
   ],
   "source": [
    "df_events.head()"
   ]
  },
  {
   "cell_type": "code",
   "execution_count": 6,
   "id": "b72e8abf",
   "metadata": {
    "execution": {
     "iopub.execute_input": "2023-11-23T03:32:43.318734Z",
     "iopub.status.busy": "2023-11-23T03:32:43.318341Z",
     "iopub.status.idle": "2023-11-23T03:32:43.981341Z",
     "shell.execute_reply": "2023-11-23T03:32:43.979814Z"
    },
    "papermill": {
     "duration": 0.671089,
     "end_time": "2023-11-23T03:32:43.984401",
     "exception": false,
     "start_time": "2023-11-23T03:32:43.313312",
     "status": "completed"
    },
    "tags": []
   },
   "outputs": [
    {
     "name": "stderr",
     "output_type": "stream",
     "text": [
      " 34%|███▍      | 95/277 [00:00<00:00, 481.31it/s]"
     ]
    },
    {
     "name": "stdout",
     "output_type": "stream",
     "text": [
      "..................................................................................................................."
     ]
    },
    {
     "name": "stderr",
     "output_type": "stream",
     "text": [
      " 74%|███████▎  | 204/277 [00:00<00:00, 523.38it/s]"
     ]
    },
    {
     "name": "stdout",
     "output_type": "stream",
     "text": [
      "................................................................................................................"
     ]
    },
    {
     "name": "stderr",
     "output_type": "stream",
     "text": [
      "100%|██████████| 277/277 [00:00<00:00, 442.25it/s]"
     ]
    },
    {
     "name": "stdout",
     "output_type": "stream",
     "text": [
      "..................................................<class 'pandas.core.frame.DataFrame'>\n",
      "MultiIndex: 14508 entries, ('038441c925bb', 0) to ('fe90110788d2', 14507)\n",
      "Data columns (total 5 columns):\n",
      " #   Column     Non-Null Count  Dtype              \n",
      "---  ------     --------------  -----              \n",
      " 0   series_id  14508 non-null  object             \n",
      " 1   night      14508 non-null  int64              \n",
      " 2   event      14508 non-null  object             \n",
      " 3   step       9585 non-null   float64            \n",
      " 4   timestamp  9585 non-null   datetime64[ns, UTC]\n",
      "dtypes: datetime64[ns, UTC](1), float64(1), int64(1), object(2)\n",
      "memory usage: 1.2+ MB\n"
     ]
    },
    {
     "name": "stderr",
     "output_type": "stream",
     "text": [
      "\n"
     ]
    }
   ],
   "source": [
    "df_events=df_events.groupby('series_id').progress_apply(lambda x: data_preparation(x))\n",
    "df_events.info()"
   ]
  },
  {
   "cell_type": "code",
   "execution_count": 7,
   "id": "ea063b0f",
   "metadata": {
    "execution": {
     "iopub.execute_input": "2023-11-23T03:32:43.996544Z",
     "iopub.status.busy": "2023-11-23T03:32:43.996158Z",
     "iopub.status.idle": "2023-11-23T03:32:44.007080Z",
     "shell.execute_reply": "2023-11-23T03:32:44.006104Z"
    },
    "papermill": {
     "duration": 0.018743,
     "end_time": "2023-11-23T03:32:44.008754",
     "exception": false,
     "start_time": "2023-11-23T03:32:43.990011",
     "status": "completed"
    },
    "tags": []
   },
   "outputs": [
    {
     "name": "stdout",
     "output_type": "stream",
     "text": [
      "<class 'pandas.core.frame.DataFrame'>\n",
      "RangeIndex: 127946340 entries, 0 to 127946339\n",
      "Data columns (total 5 columns):\n",
      " #   Column     Dtype  \n",
      "---  ------     -----  \n",
      " 0   series_id  object \n",
      " 1   step       uint32 \n",
      " 2   timestamp  object \n",
      " 3   anglez     float32\n",
      " 4   enmo       float32\n",
      "dtypes: float32(2), object(2), uint32(1)\n",
      "memory usage: 3.3+ GB\n"
     ]
    }
   ],
   "source": [
    "df_series.info()"
   ]
  },
  {
   "cell_type": "code",
   "execution_count": 8,
   "id": "78e8d5e6",
   "metadata": {
    "execution": {
     "iopub.execute_input": "2023-11-23T03:32:44.020442Z",
     "iopub.status.busy": "2023-11-23T03:32:44.019672Z",
     "iopub.status.idle": "2023-11-23T03:32:59.573968Z",
     "shell.execute_reply": "2023-11-23T03:32:59.572529Z"
    },
    "papermill": {
     "duration": 15.563762,
     "end_time": "2023-11-23T03:32:59.577032",
     "exception": false,
     "start_time": "2023-11-23T03:32:44.013270",
     "status": "completed"
    },
    "tags": []
   },
   "outputs": [],
   "source": [
    "df_series=df_series.groupby('series_id').count()"
   ]
  },
  {
   "cell_type": "code",
   "execution_count": 9,
   "id": "3a96c901",
   "metadata": {
    "execution": {
     "iopub.execute_input": "2023-11-23T03:32:59.586763Z",
     "iopub.status.busy": "2023-11-23T03:32:59.586413Z",
     "iopub.status.idle": "2023-11-23T03:32:59.787599Z",
     "shell.execute_reply": "2023-11-23T03:32:59.786312Z"
    },
    "papermill": {
     "duration": 0.209797,
     "end_time": "2023-11-23T03:32:59.791149",
     "exception": false,
     "start_time": "2023-11-23T03:32:59.581352",
     "status": "completed"
    },
    "tags": []
   },
   "outputs": [
    {
     "name": "stderr",
     "output_type": "stream",
     "text": [
      "100%|██████████| 277/277 [00:00<00:00, 1511.38it/s]"
     ]
    },
    {
     "name": "stdout",
     "output_type": "stream",
     "text": [
      ".....................................................................................................................................................................................................................................................................................<class 'pandas.core.frame.DataFrame'>\n",
      "MultiIndex: 277 entries, ('038441c925bb', '038441c925bb') to ('fe90110788d2', 'fe90110788d2')\n",
      "Data columns (total 4 columns):\n",
      " #   Column     Non-Null Count  Dtype              \n",
      "---  ------     --------------  -----              \n",
      " 0   step       277 non-null    int64              \n",
      " 1   timestamp  277 non-null    datetime64[ns, UTC]\n",
      " 2   anglez     277 non-null    int64              \n",
      " 3   enmo       277 non-null    int64              \n",
      "dtypes: datetime64[ns, UTC](1), int64(3)\n",
      "memory usage: 30.4+ KB\n"
     ]
    },
    {
     "name": "stderr",
     "output_type": "stream",
     "text": [
      "\n"
     ]
    }
   ],
   "source": [
    "df_series=df_series.groupby('series_id').progress_apply(lambda x: data_preparation(x))\n",
    "df_series.info()"
   ]
  },
  {
   "cell_type": "code",
   "execution_count": 10,
   "id": "bb3b7616",
   "metadata": {
    "execution": {
     "iopub.execute_input": "2023-11-23T03:32:59.801725Z",
     "iopub.status.busy": "2023-11-23T03:32:59.801343Z",
     "iopub.status.idle": "2023-11-23T03:32:59.813526Z",
     "shell.execute_reply": "2023-11-23T03:32:59.812130Z"
    },
    "papermill": {
     "duration": 0.020273,
     "end_time": "2023-11-23T03:32:59.815930",
     "exception": false,
     "start_time": "2023-11-23T03:32:59.795657",
     "status": "completed"
    },
    "tags": []
   },
   "outputs": [
    {
     "data": {
      "text/html": [
       "<div>\n",
       "<style scoped>\n",
       "    .dataframe tbody tr th:only-of-type {\n",
       "        vertical-align: middle;\n",
       "    }\n",
       "\n",
       "    .dataframe tbody tr th {\n",
       "        vertical-align: top;\n",
       "    }\n",
       "\n",
       "    .dataframe thead th {\n",
       "        text-align: right;\n",
       "    }\n",
       "</style>\n",
       "<table border=\"1\" class=\"dataframe\">\n",
       "  <thead>\n",
       "    <tr style=\"text-align: right;\">\n",
       "      <th></th>\n",
       "      <th></th>\n",
       "      <th>step</th>\n",
       "      <th>timestamp</th>\n",
       "      <th>anglez</th>\n",
       "      <th>enmo</th>\n",
       "    </tr>\n",
       "    <tr>\n",
       "      <th>series_id</th>\n",
       "      <th>series_id</th>\n",
       "      <th></th>\n",
       "      <th></th>\n",
       "      <th></th>\n",
       "      <th></th>\n",
       "    </tr>\n",
       "  </thead>\n",
       "  <tbody>\n",
       "    <tr>\n",
       "      <th>038441c925bb</th>\n",
       "      <th>038441c925bb</th>\n",
       "      <td>389880</td>\n",
       "      <td>1970-01-01 00:00:00.000389880+00:00</td>\n",
       "      <td>389880</td>\n",
       "      <td>389880</td>\n",
       "    </tr>\n",
       "    <tr>\n",
       "      <th>03d92c9f6f8a</th>\n",
       "      <th>03d92c9f6f8a</th>\n",
       "      <td>724140</td>\n",
       "      <td>1970-01-01 00:00:00.000724140+00:00</td>\n",
       "      <td>724140</td>\n",
       "      <td>724140</td>\n",
       "    </tr>\n",
       "    <tr>\n",
       "      <th>0402a003dae9</th>\n",
       "      <th>0402a003dae9</th>\n",
       "      <td>397260</td>\n",
       "      <td>1970-01-01 00:00:00.000397260+00:00</td>\n",
       "      <td>397260</td>\n",
       "      <td>397260</td>\n",
       "    </tr>\n",
       "    <tr>\n",
       "      <th>04f547b8017d</th>\n",
       "      <th>04f547b8017d</th>\n",
       "      <td>637560</td>\n",
       "      <td>1970-01-01 00:00:00.000637560+00:00</td>\n",
       "      <td>637560</td>\n",
       "      <td>637560</td>\n",
       "    </tr>\n",
       "    <tr>\n",
       "      <th>05e1944c3818</th>\n",
       "      <th>05e1944c3818</th>\n",
       "      <td>400860</td>\n",
       "      <td>1970-01-01 00:00:00.000400860+00:00</td>\n",
       "      <td>400860</td>\n",
       "      <td>400860</td>\n",
       "    </tr>\n",
       "  </tbody>\n",
       "</table>\n",
       "</div>"
      ],
      "text/plain": [
       "                             step                           timestamp  anglez  \\\n",
       "series_id    series_id                                                          \n",
       "038441c925bb 038441c925bb  389880 1970-01-01 00:00:00.000389880+00:00  389880   \n",
       "03d92c9f6f8a 03d92c9f6f8a  724140 1970-01-01 00:00:00.000724140+00:00  724140   \n",
       "0402a003dae9 0402a003dae9  397260 1970-01-01 00:00:00.000397260+00:00  397260   \n",
       "04f547b8017d 04f547b8017d  637560 1970-01-01 00:00:00.000637560+00:00  637560   \n",
       "05e1944c3818 05e1944c3818  400860 1970-01-01 00:00:00.000400860+00:00  400860   \n",
       "\n",
       "                             enmo  \n",
       "series_id    series_id             \n",
       "038441c925bb 038441c925bb  389880  \n",
       "03d92c9f6f8a 03d92c9f6f8a  724140  \n",
       "0402a003dae9 0402a003dae9  397260  \n",
       "04f547b8017d 04f547b8017d  637560  \n",
       "05e1944c3818 05e1944c3818  400860  "
      ]
     },
     "execution_count": 10,
     "metadata": {},
     "output_type": "execute_result"
    }
   ],
   "source": [
    "df_series.head()"
   ]
  },
  {
   "cell_type": "code",
   "execution_count": null,
   "id": "29ce9f67",
   "metadata": {
    "papermill": {
     "duration": 0.004402,
     "end_time": "2023-11-23T03:32:59.825267",
     "exception": false,
     "start_time": "2023-11-23T03:32:59.820865",
     "status": "completed"
    },
    "tags": []
   },
   "outputs": [],
   "source": []
  }
 ],
 "metadata": {
  "kaggle": {
   "accelerator": "none",
   "dataSources": [
    {
     "databundleVersionId": 6589269,
     "sourceId": 53666,
     "sourceType": "competition"
    }
   ],
   "dockerImageVersionId": 30587,
   "isGpuEnabled": false,
   "isInternetEnabled": true,
   "language": "python",
   "sourceType": "notebook"
  },
  "kernelspec": {
   "display_name": "Python 3",
   "language": "python",
   "name": "python3"
  },
  "language_info": {
   "codemirror_mode": {
    "name": "ipython",
    "version": 3
   },
   "file_extension": ".py",
   "mimetype": "text/x-python",
   "name": "python",
   "nbconvert_exporter": "python",
   "pygments_lexer": "ipython3",
   "version": "3.10.12"
  },
  "papermill": {
   "default_parameters": {},
   "duration": 76.384944,
   "end_time": "2023-11-23T03:33:00.351252",
   "environment_variables": {},
   "exception": null,
   "input_path": "__notebook__.ipynb",
   "output_path": "__notebook__.ipynb",
   "parameters": {},
   "start_time": "2023-11-23T03:31:43.966308",
   "version": "2.4.0"
  }
 },
 "nbformat": 4,
 "nbformat_minor": 5
}
