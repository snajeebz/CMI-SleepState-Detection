{
 "cells": [
  {
   "cell_type": "markdown",
   "metadata": {},
   "source": [
    "# CMI-SleepState-Detection\n",
    "## Child Mind Institute - Detect Sleep States\n",
    "### Detect sleep onset and wake from wrist-worn accelerometer data\n",
    "_______________________________________________________________________\n",
    "# [Kaggle Competition](https://www.kaggle.com/competitions/child-mind-institute-detect-sleep-states/overview)\n",
    "________________________________________________________________________\n",
    "# Author Details:\n",
    "### Name: Najeeb Haider Zaidi\n",
    "### Email: zaidi.nh@gmail.com\n",
    "### Profiles: [Github](https://github.com/snajeebz)  [LinkedIn](https://www.linkedin.com/in/najeebz) [Kaggle](https://www.kaggle.com/najeebz)\n",
    "### License: Private, Unlicensed, All the files in this repository under any branch are Prohibited to be used commercially or for personally, communally or privately unless permitted by author in writing.\n",
    "### Copyrights 2023-2024 (c) are reserved only by the author: Najeeb Haider Zaidi\n",
    "________________________________________________________________________\n",
    "# Attributions:\n",
    "## The Dataset has been provided by Child Mind Institute. in [Kaggle Competition](https://www.kaggle.com/competitions/child-mind-institute-detect-sleep-states/overview) which the author is participating in and authorized to use the dataset solely for the competition purposes.\n",
    "________________________________________________________________________"
   ]
  },
  {
   "cell_type": "code",
   "execution_count": 7,
   "metadata": {},
   "outputs": [],
   "source": [
    "import pandas as pd\n",
    "import numpy as np \n",
    "import seaborn as sns\n",
    "import plotly.express as px\n",
    "import matplotlib.pyplot as plt \n",
    "import datetime as dt\n",
    "import string as str\n",
    "from datetime import datetime as dts\n",
    "#Disable warning\n",
    "import warnings\n",
    "warnings.filterwarnings(\"ignore\")\n",
    "pd.set_option('display.max_colwidth', None)\n"
   ]
  },
  {
   "cell_type": "code",
   "execution_count": 2,
   "metadata": {},
   "outputs": [],
   "source": [
    "# Color printing\n",
    "# inspired by https://www.kaggle.com/code/ravi20076/sleepstate-eda-baseline\n",
    "from colorama import Fore, Style, init\n",
    "from pprint import pprint\n",
    "def PrintColor(text:str, color = Fore.BLUE, style = Style.BRIGHT):\n",
    "    \"Prints color outputs using colorama using a text F-string\";\n",
    "    print(style + color + text + Style.RESET_ALL);\n",
    "    \n",
    "# inspired by https://www.kaggle.com/code/rishabh15virgo/cmi-dss-first-impression-data-understanding-eda\n",
    "def summarize_dataframe(df):\n",
    "    summary_df = pd.DataFrame(df.dtypes, columns=['dtypes'])\n",
    "    summary_df['missing#'] = df.isna().sum().values*100\n",
    "    summary_df['missing%'] = (df.isna().sum().values*100)/len(df)\n",
    "    summary_df['uniques'] = df.nunique().values\n",
    "    summary_df['first_value'] = df.iloc[0].values\n",
    "    summary_df['last_value'] = df.iloc[len(df)-1].values\n",
    "    summary_df['count'] = df.count().values\n",
    "    #sum['skew'] = df.skew().values\n",
    "    desc = pd.DataFrame(df.describe().T)\n",
    "    summary_df['min'] = desc['min']\n",
    "    summary_df['max'] = desc['max']\n",
    "    summary_df['mean'] = desc['mean']\n",
    "    return summary_df"
   ]
  },
  {
   "cell_type": "markdown",
   "metadata": {},
   "source": [
    "# Dataset Description provided by CMI\n",
    "- #### The dataset comprises about 500 multi-day recordings of wrist-worn accelerometer data annotated with two event types: onset, the beginning of sleep, and wakeup, the end of sleep. \n",
    "- #### The task is to detect the occurrence of these two events in the accelerometer series.\n",
    "- #### Each data series represents this continuous (multi-day/event) recording for a unique experimental subject.\n",
    "\n",
    "\n",
    "  - A single sleep period must be at least 30 minutes in length\n",
    "  - A single sleep period can be interrupted by bouts of activity that do not exceed 30 consecutive minutes\n",
    "  - No sleep windows can be detected unless the watch is deemed to be worn for the duration (elaborated upon, below)\n",
    "  - The longest sleep window during the night is the only one which is recorded\n",
    "  - If no valid sleep window is identifiable, neither an onset nor a wakeup event is recorded for that night.\n",
    "  - Sleep events do not need to straddle the day-line, and therefore there is no hard rule defining how many may occur within a given period. However, no more than one window should be assigned per night. For example, it is valid for an individual to have a sleep window from 01h00–06h00 and 19h00–23h30 in the same calendar day, though assigned to consecutive nights\n",
    "  - There are roughly as many nights recorded for a series as there are 24-hour periods in that series.\n",
    "\n",
    "- #### Though each series is a continuous recording, there may be periods in the series when the accelerometer device was removed. \n",
    "  - These period are determined as those where suspiciously little variation in the accelerometer signals occur over an extended period of time, which is unrealistic for typical human participants.\n",
    "  - Events are not annotated for these periods, and you should attempt to refrain from making event predictions during these periods: an event prediction will be scored as false positive.\n",
    "\n",
    "- #### Note that this is a Code Competition, in which the actual test set is hidden. In this public version, we give some sample data in the correct format to help you author your solutions. The full test set contains about 200 series.\n",
    "\n",
    "# Files and Field Descriptions\n",
    "- ## train_series.parquet \n",
    "  - Series to be used as training data. Each series is a continuous recording of accelerometer data for a single subject spanning many days.\n",
    "  - series_id - Unique identifier for each accelerometer series.\n",
    "  - step - An integer timestep for each observation within a series.\n",
    "  - timestamp - A corresponding datetime with ISO 8601 format %Y-%m-%dT%H:%M:%S%z.\n",
    "  - anglez - As calculated and described by the GGIR package, z-angle is a metric derived from individual accelerometer components that is commonly used in sleep detection, and refers to the angle of the arm relative to the vertical axis of the body\n",
    "  - enmo - As calculated and described by the GGIR package, ENMO is the Euclidean Norm Minus One of all accelerometer signals, with negative values rounded to zero. While no standard measure of acceleration exists in this space, this is one of the several commonly computed features\n",
    "- ## train_events.csv - Sleep logs for series in the training set recording onset and wake events.\n",
    "  - series_id - Unique identifier for each series of accelerometer data in train_series.parquet.\n",
    "  - night - An enumeration of potential onset / wakeup event pairs. At most one pair of events can occur for each night.\n",
    "  - event - The type of event, whether onset or wakeup.\n",
    "  - step and timestamp - The recorded time of occurence of the event in the accelerometer series.\n"
   ]
  },
  {
   "cell_type": "code",
   "execution_count": 3,
   "metadata": {},
   "outputs": [],
   "source": [
    "#train_series=pd.read_parquet(path=\"d:/Documents and Settings/Kaggle Competitions/train_series.parquet\", engine='auto')\n",
    "train_events=pd.read_csv(\"Dataset/train_events.csv\")\n",
    "#summarize_dataframe(train_events)"
   ]
  },
  {
   "cell_type": "code",
   "execution_count": 31,
   "metadata": {},
   "outputs": [],
   "source": [
    "def tscv(dt):\n",
    "    d=dts.strptime(dt, \"%Y-%m-%dT%H:%M:%S%z\")\n",
    "    #d = dts.fromisoformat(dt)\n",
    "    ts=dts.timestamp(d)\n",
    "    #print('=', end =\"\")\n",
    "    return ts"
   ]
  },
  {
   "cell_type": "code",
   "execution_count": null,
   "metadata": {},
   "outputs": [],
   "source": []
  },
  {
   "cell_type": "code",
   "execution_count": null,
   "metadata": {},
   "outputs": [],
   "source": []
  },
  {
   "cell_type": "code",
   "execution_count": 25,
   "metadata": {},
   "outputs": [
    {
     "name": "stdout",
     "output_type": "stream",
     "text": [
      "<class 'pandas.core.frame.DataFrame'>\n",
      "RangeIndex: 14508 entries, 0 to 14507\n",
      "Data columns (total 5 columns):\n",
      " #   Column     Non-Null Count  Dtype  \n",
      "---  ------     --------------  -----  \n",
      " 0   series_id  14508 non-null  object \n",
      " 1   night      14508 non-null  int64  \n",
      " 2   event      14508 non-null  object \n",
      " 3   step       9585 non-null   float64\n",
      " 4   timestamp  9585 non-null   object \n",
      "dtypes: float64(1), int64(1), object(3)\n",
      "memory usage: 566.8+ KB\n"
     ]
    }
   ],
   "source": [
    "train_events.info()"
   ]
  },
  {
   "cell_type": "code",
   "execution_count": 32,
   "metadata": {},
   "outputs": [],
   "source": [
    "#train_events['Year', \"Month\", 'Day', 'Hour','Min','Sec','TZ']=\n",
    "train_events['ts']=train_events['timestamp'].dropna().apply(lambda x: tscv(x))\n"
   ]
  },
  {
   "cell_type": "code",
   "execution_count": 35,
   "metadata": {},
   "outputs": [
    {
     "data": {
      "text/html": [
       "<div>\n",
       "<style scoped>\n",
       "    .dataframe tbody tr th:only-of-type {\n",
       "        vertical-align: middle;\n",
       "    }\n",
       "\n",
       "    .dataframe tbody tr th {\n",
       "        vertical-align: top;\n",
       "    }\n",
       "\n",
       "    .dataframe thead th {\n",
       "        text-align: right;\n",
       "    }\n",
       "</style>\n",
       "<table border=\"1\" class=\"dataframe\">\n",
       "  <thead>\n",
       "    <tr style=\"text-align: right;\">\n",
       "      <th></th>\n",
       "      <th>series_id</th>\n",
       "      <th>night</th>\n",
       "      <th>event</th>\n",
       "      <th>step</th>\n",
       "      <th>timestamp</th>\n",
       "      <th>ts</th>\n",
       "    </tr>\n",
       "  </thead>\n",
       "  <tbody>\n",
       "    <tr>\n",
       "      <th>0</th>\n",
       "      <td>038441c925bb</td>\n",
       "      <td>1</td>\n",
       "      <td>onset</td>\n",
       "      <td>4992.0</td>\n",
       "      <td>2018-08-14T22:26:00-0400</td>\n",
       "      <td>1.534300e+09</td>\n",
       "    </tr>\n",
       "    <tr>\n",
       "      <th>1</th>\n",
       "      <td>038441c925bb</td>\n",
       "      <td>1</td>\n",
       "      <td>wakeup</td>\n",
       "      <td>10932.0</td>\n",
       "      <td>2018-08-15T06:41:00-0400</td>\n",
       "      <td>1.534330e+09</td>\n",
       "    </tr>\n",
       "    <tr>\n",
       "      <th>2</th>\n",
       "      <td>038441c925bb</td>\n",
       "      <td>2</td>\n",
       "      <td>onset</td>\n",
       "      <td>20244.0</td>\n",
       "      <td>2018-08-15T19:37:00-0400</td>\n",
       "      <td>1.534376e+09</td>\n",
       "    </tr>\n",
       "    <tr>\n",
       "      <th>3</th>\n",
       "      <td>038441c925bb</td>\n",
       "      <td>2</td>\n",
       "      <td>wakeup</td>\n",
       "      <td>27492.0</td>\n",
       "      <td>2018-08-16T05:41:00-0400</td>\n",
       "      <td>1.534412e+09</td>\n",
       "    </tr>\n",
       "    <tr>\n",
       "      <th>4</th>\n",
       "      <td>038441c925bb</td>\n",
       "      <td>3</td>\n",
       "      <td>onset</td>\n",
       "      <td>39996.0</td>\n",
       "      <td>2018-08-16T23:03:00-0400</td>\n",
       "      <td>1.534475e+09</td>\n",
       "    </tr>\n",
       "    <tr>\n",
       "      <th>...</th>\n",
       "      <td>...</td>\n",
       "      <td>...</td>\n",
       "      <td>...</td>\n",
       "      <td>...</td>\n",
       "      <td>...</td>\n",
       "      <td>...</td>\n",
       "    </tr>\n",
       "    <tr>\n",
       "      <th>14505</th>\n",
       "      <td>fe90110788d2</td>\n",
       "      <td>34</td>\n",
       "      <td>wakeup</td>\n",
       "      <td>581604.0</td>\n",
       "      <td>2017-09-07T09:17:00-0400</td>\n",
       "      <td>1.504790e+09</td>\n",
       "    </tr>\n",
       "    <tr>\n",
       "      <th>14438</th>\n",
       "      <td>fe90110788d2</td>\n",
       "      <td>1</td>\n",
       "      <td>onset</td>\n",
       "      <td>NaN</td>\n",
       "      <td>NaN</td>\n",
       "      <td>NaN</td>\n",
       "    </tr>\n",
       "    <tr>\n",
       "      <th>14439</th>\n",
       "      <td>fe90110788d2</td>\n",
       "      <td>1</td>\n",
       "      <td>wakeup</td>\n",
       "      <td>NaN</td>\n",
       "      <td>NaN</td>\n",
       "      <td>NaN</td>\n",
       "    </tr>\n",
       "    <tr>\n",
       "      <th>14506</th>\n",
       "      <td>fe90110788d2</td>\n",
       "      <td>35</td>\n",
       "      <td>onset</td>\n",
       "      <td>NaN</td>\n",
       "      <td>NaN</td>\n",
       "      <td>NaN</td>\n",
       "    </tr>\n",
       "    <tr>\n",
       "      <th>14507</th>\n",
       "      <td>fe90110788d2</td>\n",
       "      <td>35</td>\n",
       "      <td>wakeup</td>\n",
       "      <td>NaN</td>\n",
       "      <td>NaN</td>\n",
       "      <td>NaN</td>\n",
       "    </tr>\n",
       "  </tbody>\n",
       "</table>\n",
       "<p>14508 rows × 6 columns</p>\n",
       "</div>"
      ],
      "text/plain": [
       "          series_id  night   event      step                 timestamp  \\\n",
       "0      038441c925bb      1   onset    4992.0  2018-08-14T22:26:00-0400   \n",
       "1      038441c925bb      1  wakeup   10932.0  2018-08-15T06:41:00-0400   \n",
       "2      038441c925bb      2   onset   20244.0  2018-08-15T19:37:00-0400   \n",
       "3      038441c925bb      2  wakeup   27492.0  2018-08-16T05:41:00-0400   \n",
       "4      038441c925bb      3   onset   39996.0  2018-08-16T23:03:00-0400   \n",
       "...             ...    ...     ...       ...                       ...   \n",
       "14505  fe90110788d2     34  wakeup  581604.0  2017-09-07T09:17:00-0400   \n",
       "14438  fe90110788d2      1   onset       NaN                       NaN   \n",
       "14439  fe90110788d2      1  wakeup       NaN                       NaN   \n",
       "14506  fe90110788d2     35   onset       NaN                       NaN   \n",
       "14507  fe90110788d2     35  wakeup       NaN                       NaN   \n",
       "\n",
       "                 ts  \n",
       "0      1.534300e+09  \n",
       "1      1.534330e+09  \n",
       "2      1.534376e+09  \n",
       "3      1.534412e+09  \n",
       "4      1.534475e+09  \n",
       "...             ...  \n",
       "14505  1.504790e+09  \n",
       "14438           NaN  \n",
       "14439           NaN  \n",
       "14506           NaN  \n",
       "14507           NaN  \n",
       "\n",
       "[14508 rows x 6 columns]"
      ]
     },
     "execution_count": 35,
     "metadata": {},
     "output_type": "execute_result"
    }
   ],
   "source": [
    "train_events.sort_values(by=['series_id','ts','night'])\n"
   ]
  },
  {
   "cell_type": "code",
   "execution_count": 40,
   "metadata": {},
   "outputs": [
    {
     "data": {
      "text/plain": [
       "0        1.534300e+09\n",
       "1        1.534330e+09\n",
       "2        1.534376e+09\n",
       "3        1.534412e+09\n",
       "4        1.534475e+09\n",
       "             ...     \n",
       "14319             NaN\n",
       "14366    1.553651e+09\n",
       "14367    1.553680e+09\n",
       "14438             NaN\n",
       "14439             NaN\n",
       "Name: ts, Length: 588, dtype: float64"
      ]
     },
     "execution_count": 40,
     "metadata": {},
     "output_type": "execute_result"
    }
   ],
   "source": [
    "train_events['ts'][(train_events['series_id']=='038441c925bb') & (train_events['night']==1)]"
   ]
  },
  {
   "cell_type": "code",
   "execution_count": 9,
   "metadata": {},
   "outputs": [
    {
     "name": "stdout",
     "output_type": "stream",
     "text": [
      "<class 'pandas.core.frame.DataFrame'>\n",
      "RangeIndex: 14508 entries, 0 to 14507\n",
      "Data columns (total 12 columns):\n",
      " #   Column     Non-Null Count  Dtype  \n",
      "---  ------     --------------  -----  \n",
      " 0   series_id  14508 non-null  object \n",
      " 1   night      14508 non-null  int64  \n",
      " 2   event      14508 non-null  object \n",
      " 3   step       9585 non-null   float64\n",
      " 4   timestamp  9585 non-null   object \n",
      " 5   year       9585 non-null   object \n",
      " 6   month      9585 non-null   object \n",
      " 7   day        9585 non-null   object \n",
      " 8   hour       9585 non-null   object \n",
      " 9   min        9585 non-null   object \n",
      " 10  sec        9585 non-null   object \n",
      " 11  tz         9585 non-null   object \n",
      "dtypes: float64(1), int64(1), object(10)\n",
      "memory usage: 1.3+ MB\n",
      "Info: \n",
      " None\n",
      "\n",
      " Describe: \n",
      "               night           step\n",
      "count  14508.000000    9585.000000\n",
      "mean      15.120072  214352.123944\n",
      "std       10.286758  141268.408192\n",
      "min        1.000000     936.000000\n",
      "25%        7.000000   95436.000000\n",
      "50%       14.000000  200604.000000\n",
      "75%       21.000000  317520.000000\n",
      "max       84.000000  739392.000000\n",
      "\n",
      " Head: \n",
      "         series_id  night   event     step                 timestamp  year  \\\n",
      "0    038441c925bb      1   onset   4992.0  2018-08-14T22:26:00-0400  2018   \n",
      "1    038441c925bb      1  wakeup  10932.0  2018-08-15T06:41:00-0400  2018   \n",
      "2    038441c925bb      2   onset  20244.0  2018-08-15T19:37:00-0400  2018   \n",
      "3    038441c925bb      2  wakeup  27492.0  2018-08-16T05:41:00-0400  2018   \n",
      "4    038441c925bb      3   onset  39996.0  2018-08-16T23:03:00-0400  2018   \n",
      "..            ...    ...     ...      ...                       ...   ...   \n",
      "495  0cd1e3d0ed95      9  wakeup      NaN                       NaN   NaN   \n",
      "496  0cd1e3d0ed95     10   onset      NaN                       NaN   NaN   \n",
      "497  0cd1e3d0ed95     10  wakeup      NaN                       NaN   NaN   \n",
      "498  0cd1e3d0ed95     11   onset      NaN                       NaN   NaN   \n",
      "499  0cd1e3d0ed95     11  wakeup      NaN                       NaN   NaN   \n",
      "\n",
      "    month  day hour  min  sec     tz  \n",
      "0      08   14   22   26   00  -0400  \n",
      "1      08   15   06   41   00  -0400  \n",
      "2      08   15   19   37   00  -0400  \n",
      "3      08   16   05   41   00  -0400  \n",
      "4      08   16   23   03   00  -0400  \n",
      "..    ...  ...  ...  ...  ...    ...  \n",
      "495   NaN  NaN  NaN  NaN  NaN    NaN  \n",
      "496   NaN  NaN  NaN  NaN  NaN    NaN  \n",
      "497   NaN  NaN  NaN  NaN  NaN    NaN  \n",
      "498   NaN  NaN  NaN  NaN  NaN    NaN  \n",
      "499   NaN  NaN  NaN  NaN  NaN    NaN  \n",
      "\n",
      "[500 rows x 12 columns]\n"
     ]
    }
   ],
   "source": [
    "print('Info: \\n',train_events.info())\n",
    "print('\\n Describe: \\n',train_events.describe())\n",
    "print('\\n Head: \\n',train_events.head(500))\n",
    "\n"
   ]
  },
  {
   "cell_type": "markdown",
   "metadata": {},
   "source": [
    "## Analyzing Onset and Wakeup Categories"
   ]
  },
  {
   "cell_type": "code",
   "execution_count": 15,
   "metadata": {},
   "outputs": [
    {
     "name": "stdout",
     "output_type": "stream",
     "text": [
      "\n",
      " Wakeup Entries: \n",
      " series_id    7254\n",
      "night        7254\n",
      "event        7254\n",
      "step         4794\n",
      "timestamp    4794\n",
      "dtype: int64\n",
      "\n",
      " Onset Entries: \n",
      " series_id    7254\n",
      "night        7254\n",
      "event        7254\n",
      "step         4791\n",
      "timestamp    4791\n",
      "dtype: int64\n"
     ]
    }
   ],
   "source": [
    "print('\\n Wakeup Entries: \\n',train_events[(train_events['event']=='wakeup')].count())\n",
    "print('\\n Onset Entries: \\n',train_events[(train_events['event']=='onset')].count())\n",
    "\n"
   ]
  },
  {
   "cell_type": "code",
   "execution_count": 36,
   "metadata": {},
   "outputs": [
    {
     "data": {
      "text/plain": [
       "series_id\n",
       "349c5562ee2c      4\n",
       "10469f6765bf      8\n",
       "13b4d6a01d27     10\n",
       "60e51cad2ffb     10\n",
       "3a9a9dc2cbd9     12\n",
       "               ... \n",
       "cfeb11428dd7     94\n",
       "f56824b503a0    100\n",
       "fb223ed2278c    106\n",
       "f564985ab692    124\n",
       "78569a801a38    168\n",
       "Name: count, Length: 277, dtype: int64"
      ]
     },
     "execution_count": 36,
     "metadata": {},
     "output_type": "execute_result"
    }
   ],
   "source": [
    "train_events['series_id'].value_counts(ascending=True)"
   ]
  },
  {
   "cell_type": "code",
   "execution_count": 14,
   "metadata": {},
   "outputs": [
    {
     "name": "stdout",
     "output_type": "stream",
     "text": [
      "\n",
      " Wakeup Dropna count:  4794\n",
      "\n",
      " Wakeup count:  4794\n",
      "\n",
      " Onset Dropna count:  4791\n",
      "\n",
      " Onset count:  4791\n"
     ]
    }
   ],
   "source": [
    "Onsettrain_events.loc[train_events['event'] == 'wakeup', 'step'].dropna().count())\n",
    "print('\\n Wakeup count: ',train_events.loc[train_events['event'] == 'wakeup', 'step'].count())\n",
    "print('\\n Onset Dropna count: ',train_events.loc[train_events['event'] == 'onset', 'step'].dropna().count())\n",
    "print('\\n Onset count: ',train_events.loc[train_events['event'] == 'onset', 'step'].count())"
   ]
  },
  {
   "cell_type": "code",
   "execution_count": 23,
   "metadata": {},
   "outputs": [
    {
     "data": {
      "text/plain": [
       "1         10932.0\n",
       "3         27492.0\n",
       "5         44400.0\n",
       "7         62856.0\n",
       "11        97860.0\n",
       "           ...   \n",
       "14497    511284.0\n",
       "14499    529104.0\n",
       "14501    547152.0\n",
       "14503    560604.0\n",
       "14505    581604.0\n",
       "Name: step, Length: 4794, dtype: float64"
      ]
     },
     "execution_count": 23,
     "metadata": {},
     "output_type": "execute_result"
    }
   ],
   "source": [
    "sample_wakeup = train_events.loc[train_events['event'] == 'wakeup', 'step'].dropna()\n",
    "sample_onset = train_events.loc[train_events['event'] == 'wakeup', 'step'].dropna()\n",
    "sample_wakeup"
   ]
  },
  {
   "cell_type": "code",
   "execution_count": 46,
   "metadata": {},
   "outputs": [
    {
     "name": "stdout",
     "output_type": "stream",
     "text": [
      "series_id\n",
      "038441c925bb     8\n",
      "03d92c9f6f8a    58\n",
      "0402a003dae9    12\n",
      "04f547b8017d    32\n",
      "05e1944c3818     2\n",
      "                ..\n",
      "fa149c3c4bde    16\n",
      "fb223ed2278c    96\n",
      "fbf33b1a2c10     8\n",
      "fcca183903b7     2\n",
      "fe90110788d2     4\n",
      "Name: step, Length: 277, dtype: int64\n",
      "series_id\n",
      "78569a801a38    168\n",
      "f564985ab692    124\n",
      "fb223ed2278c    106\n",
      "f56824b503a0    100\n",
      "cfeb11428dd7     94\n",
      "               ... \n",
      "3a9a9dc2cbd9     12\n",
      "60e51cad2ffb     10\n",
      "13b4d6a01d27     10\n",
      "10469f6765bf      8\n",
      "349c5562ee2c      4\n",
      "Name: count, Length: 277, dtype: int64\n"
     ]
    }
   ],
   "source": [
    "print(train_events['step'].isna().groupby(train_events['series_id']).sum())\n",
    "print(train_events['series_id'].value_counts())"
   ]
  },
  {
   "cell_type": "code",
   "execution_count": 5,
   "metadata": {},
   "outputs": [
    {
     "data": {
      "text/html": [
       "<div>\n",
       "<style scoped>\n",
       "    .dataframe tbody tr th:only-of-type {\n",
       "        vertical-align: middle;\n",
       "    }\n",
       "\n",
       "    .dataframe tbody tr th {\n",
       "        vertical-align: top;\n",
       "    }\n",
       "\n",
       "    .dataframe thead th {\n",
       "        text-align: right;\n",
       "    }\n",
       "</style>\n",
       "<table border=\"1\" class=\"dataframe\">\n",
       "  <thead>\n",
       "    <tr style=\"text-align: right;\">\n",
       "      <th></th>\n",
       "      <th>dtypes</th>\n",
       "      <th>missing#</th>\n",
       "      <th>missing%</th>\n",
       "      <th>uniques</th>\n",
       "      <th>first_value</th>\n",
       "      <th>last_value</th>\n",
       "      <th>count</th>\n",
       "      <th>min</th>\n",
       "      <th>max</th>\n",
       "      <th>mean</th>\n",
       "    </tr>\n",
       "  </thead>\n",
       "  <tbody>\n",
       "    <tr>\n",
       "      <th>series_id</th>\n",
       "      <td>object</td>\n",
       "      <td>0</td>\n",
       "      <td>0.0</td>\n",
       "      <td>3</td>\n",
       "      <td>038441c925bb</td>\n",
       "      <td>0402a003dae9</td>\n",
       "      <td>450</td>\n",
       "      <td>NaN</td>\n",
       "      <td>NaN</td>\n",
       "      <td>NaN</td>\n",
       "    </tr>\n",
       "    <tr>\n",
       "      <th>step</th>\n",
       "      <td>uint32</td>\n",
       "      <td>0</td>\n",
       "      <td>0.0</td>\n",
       "      <td>150</td>\n",
       "      <td>0</td>\n",
       "      <td>149</td>\n",
       "      <td>450</td>\n",
       "      <td>0.000000</td>\n",
       "      <td>149.000000</td>\n",
       "      <td>74.500000</td>\n",
       "    </tr>\n",
       "    <tr>\n",
       "      <th>timestamp</th>\n",
       "      <td>object</td>\n",
       "      <td>0</td>\n",
       "      <td>0.0</td>\n",
       "      <td>450</td>\n",
       "      <td>2018-08-14T15:30:00-0400</td>\n",
       "      <td>2018-12-18T12:57:25-0500</td>\n",
       "      <td>450</td>\n",
       "      <td>NaN</td>\n",
       "      <td>NaN</td>\n",
       "      <td>NaN</td>\n",
       "    </tr>\n",
       "    <tr>\n",
       "      <th>anglez</th>\n",
       "      <td>float32</td>\n",
       "      <td>0</td>\n",
       "      <td>0.0</td>\n",
       "      <td>305</td>\n",
       "      <td>2.6367</td>\n",
       "      <td>7.0299</td>\n",
       "      <td>450</td>\n",
       "      <td>-88.367996</td>\n",
       "      <td>68.460503</td>\n",
       "      <td>-56.177723</td>\n",
       "    </tr>\n",
       "    <tr>\n",
       "      <th>enmo</th>\n",
       "      <td>float32</td>\n",
       "      <td>0</td>\n",
       "      <td>0.0</td>\n",
       "      <td>183</td>\n",
       "      <td>0.0217</td>\n",
       "      <td>0.0081</td>\n",
       "      <td>450</td>\n",
       "      <td>0.000000</td>\n",
       "      <td>0.980200</td>\n",
       "      <td>0.030276</td>\n",
       "    </tr>\n",
       "  </tbody>\n",
       "</table>\n",
       "</div>"
      ],
      "text/plain": [
       "            dtypes  missing#  missing%  uniques               first_value  \\\n",
       "series_id   object         0       0.0        3              038441c925bb   \n",
       "step        uint32         0       0.0      150                         0   \n",
       "timestamp   object         0       0.0      450  2018-08-14T15:30:00-0400   \n",
       "anglez     float32         0       0.0      305                    2.6367   \n",
       "enmo       float32         0       0.0      183                    0.0217   \n",
       "\n",
       "                         last_value  count        min         max       mean  \n",
       "series_id              0402a003dae9    450        NaN         NaN        NaN  \n",
       "step                            149    450   0.000000  149.000000  74.500000  \n",
       "timestamp  2018-12-18T12:57:25-0500    450        NaN         NaN        NaN  \n",
       "anglez                       7.0299    450 -88.367996   68.460503 -56.177723  \n",
       "enmo                         0.0081    450   0.000000    0.980200   0.030276  "
      ]
     },
     "execution_count": 5,
     "metadata": {},
     "output_type": "execute_result"
    }
   ],
   "source": [
    "summarize_dataframe(train_series)\n"
   ]
  },
  {
   "cell_type": "code",
   "execution_count": 25,
   "metadata": {},
   "outputs": [
    {
     "data": {
      "text/plain": [
       "array(['038441c925bb', '03d92c9f6f8a', '0402a003dae9'], dtype=object)"
      ]
     },
     "execution_count": 25,
     "metadata": {},
     "output_type": "execute_result"
    }
   ],
   "source": [
    "train_series['steps'].isna().groupby(train)"
   ]
  },
  {
   "cell_type": "markdown",
   "metadata": {},
   "source": [
    "# Observation:\n",
    "- As evident from the summary and the nature of the data, it should have "
   ]
  },
  {
   "cell_type": "code",
   "execution_count": 12,
   "metadata": {},
   "outputs": [
    {
     "data": {
      "text/html": [
       "<div>\n",
       "<style scoped>\n",
       "    .dataframe tbody tr th:only-of-type {\n",
       "        vertical-align: middle;\n",
       "    }\n",
       "\n",
       "    .dataframe tbody tr th {\n",
       "        vertical-align: top;\n",
       "    }\n",
       "\n",
       "    .dataframe thead th {\n",
       "        text-align: right;\n",
       "    }\n",
       "</style>\n",
       "<table border=\"1\" class=\"dataframe\">\n",
       "  <thead>\n",
       "    <tr style=\"text-align: right;\">\n",
       "      <th></th>\n",
       "      <th>night</th>\n",
       "      <th>step</th>\n",
       "    </tr>\n",
       "  </thead>\n",
       "  <tbody>\n",
       "    <tr>\n",
       "      <th>count</th>\n",
       "      <td>14508.000000</td>\n",
       "      <td>9585.000000</td>\n",
       "    </tr>\n",
       "    <tr>\n",
       "      <th>mean</th>\n",
       "      <td>15.120072</td>\n",
       "      <td>214352.123944</td>\n",
       "    </tr>\n",
       "    <tr>\n",
       "      <th>std</th>\n",
       "      <td>10.286758</td>\n",
       "      <td>141268.408192</td>\n",
       "    </tr>\n",
       "    <tr>\n",
       "      <th>min</th>\n",
       "      <td>1.000000</td>\n",
       "      <td>936.000000</td>\n",
       "    </tr>\n",
       "    <tr>\n",
       "      <th>25%</th>\n",
       "      <td>7.000000</td>\n",
       "      <td>95436.000000</td>\n",
       "    </tr>\n",
       "    <tr>\n",
       "      <th>50%</th>\n",
       "      <td>14.000000</td>\n",
       "      <td>200604.000000</td>\n",
       "    </tr>\n",
       "    <tr>\n",
       "      <th>75%</th>\n",
       "      <td>21.000000</td>\n",
       "      <td>317520.000000</td>\n",
       "    </tr>\n",
       "    <tr>\n",
       "      <th>max</th>\n",
       "      <td>84.000000</td>\n",
       "      <td>739392.000000</td>\n",
       "    </tr>\n",
       "  </tbody>\n",
       "</table>\n",
       "</div>"
      ],
      "text/plain": [
       "              night           step\n",
       "count  14508.000000    9585.000000\n",
       "mean      15.120072  214352.123944\n",
       "std       10.286758  141268.408192\n",
       "min        1.000000     936.000000\n",
       "25%        7.000000   95436.000000\n",
       "50%       14.000000  200604.000000\n",
       "75%       21.000000  317520.000000\n",
       "max       84.000000  739392.000000"
      ]
     },
     "execution_count": 12,
     "metadata": {},
     "output_type": "execute_result"
    }
   ],
   "source": [
    "train_events.describe()"
   ]
  },
  {
   "cell_type": "code",
   "execution_count": 13,
   "metadata": {},
   "outputs": [
    {
     "data": {
      "text/html": [
       "<div>\n",
       "<style scoped>\n",
       "    .dataframe tbody tr th:only-of-type {\n",
       "        vertical-align: middle;\n",
       "    }\n",
       "\n",
       "    .dataframe tbody tr th {\n",
       "        vertical-align: top;\n",
       "    }\n",
       "\n",
       "    .dataframe thead th {\n",
       "        text-align: right;\n",
       "    }\n",
       "</style>\n",
       "<table border=\"1\" class=\"dataframe\">\n",
       "  <thead>\n",
       "    <tr style=\"text-align: right;\">\n",
       "      <th></th>\n",
       "      <th>step</th>\n",
       "      <th>anglez</th>\n",
       "      <th>enmo</th>\n",
       "    </tr>\n",
       "  </thead>\n",
       "  <tbody>\n",
       "    <tr>\n",
       "      <th>count</th>\n",
       "      <td>450.0000</td>\n",
       "      <td>450.000000</td>\n",
       "      <td>450.000000</td>\n",
       "    </tr>\n",
       "    <tr>\n",
       "      <th>mean</th>\n",
       "      <td>74.5000</td>\n",
       "      <td>-56.177723</td>\n",
       "      <td>0.030276</td>\n",
       "    </tr>\n",
       "    <tr>\n",
       "      <th>std</th>\n",
       "      <td>43.3485</td>\n",
       "      <td>39.331936</td>\n",
       "      <td>0.067950</td>\n",
       "    </tr>\n",
       "    <tr>\n",
       "      <th>min</th>\n",
       "      <td>0.0000</td>\n",
       "      <td>-88.367996</td>\n",
       "      <td>0.000000</td>\n",
       "    </tr>\n",
       "    <tr>\n",
       "      <th>25%</th>\n",
       "      <td>37.0000</td>\n",
       "      <td>-88.216599</td>\n",
       "      <td>0.000000</td>\n",
       "    </tr>\n",
       "    <tr>\n",
       "      <th>50%</th>\n",
       "      <td>74.5000</td>\n",
       "      <td>-79.989449</td>\n",
       "      <td>0.013300</td>\n",
       "    </tr>\n",
       "    <tr>\n",
       "      <th>75%</th>\n",
       "      <td>112.0000</td>\n",
       "      <td>-29.100624</td>\n",
       "      <td>0.035250</td>\n",
       "    </tr>\n",
       "    <tr>\n",
       "      <th>max</th>\n",
       "      <td>149.0000</td>\n",
       "      <td>68.460503</td>\n",
       "      <td>0.980200</td>\n",
       "    </tr>\n",
       "  </tbody>\n",
       "</table>\n",
       "</div>"
      ],
      "text/plain": [
       "           step      anglez        enmo\n",
       "count  450.0000  450.000000  450.000000\n",
       "mean    74.5000  -56.177723    0.030276\n",
       "std     43.3485   39.331936    0.067950\n",
       "min      0.0000  -88.367996    0.000000\n",
       "25%     37.0000  -88.216599    0.000000\n",
       "50%     74.5000  -79.989449    0.013300\n",
       "75%    112.0000  -29.100624    0.035250\n",
       "max    149.0000   68.460503    0.980200"
      ]
     },
     "execution_count": 13,
     "metadata": {},
     "output_type": "execute_result"
    }
   ],
   "source": [
    "train_series.describe()"
   ]
  },
  {
   "cell_type": "code",
   "execution_count": 14,
   "metadata": {},
   "outputs": [
    {
     "name": "stdout",
     "output_type": "stream",
     "text": [
      "<class 'pandas.core.frame.DataFrame'>\n",
      "RangeIndex: 450 entries, 0 to 449\n",
      "Data columns (total 5 columns):\n",
      " #   Column     Non-Null Count  Dtype  \n",
      "---  ------     --------------  -----  \n",
      " 0   series_id  450 non-null    object \n",
      " 1   step       450 non-null    uint32 \n",
      " 2   timestamp  450 non-null    object \n",
      " 3   anglez     450 non-null    float32\n",
      " 4   enmo       450 non-null    float32\n",
      "dtypes: float32(2), object(2), uint32(1)\n",
      "memory usage: 12.4+ KB\n"
     ]
    }
   ],
   "source": [
    "train_series.info()"
   ]
  },
  {
   "cell_type": "markdown",
   "metadata": {},
   "source": [
    "## Plan:\n",
    "- There are two categories of data, onset and sleep. \n",
    "- We should train two models Sleep Positive/Negative and Onset Positive/Negative with probability and combine the results.\n",
    "- In order to train two models, we need to separate training and create two CSV in this file.\n",
    "- In the 2nd file we will create two models and train these with two different sets of the data.\n",
    "- Based on the results we will decide the further plan of action."
   ]
  },
  {
   "cell_type": "code",
   "execution_count": 43,
   "metadata": {},
   "outputs": [
    {
     "data": {
      "text/plain": [
       "array([ 1,  2,  3,  4,  5,  6,  7,  8,  9, 10, 11, 12, 13, 14, 15, 16, 17,\n",
       "       18, 19, 20, 21, 22, 23, 24, 25, 26, 27, 28, 29, 30, 31, 32, 33, 34,\n",
       "       35, 36, 37, 38, 39, 40, 41, 42, 43, 44, 45, 46, 47, 48, 49, 50, 51,\n",
       "       52, 53, 54, 55, 56, 57, 58, 59, 60, 61, 62, 63, 64, 65, 66, 67, 68,\n",
       "       69, 70, 71, 72, 73, 74, 75, 76, 77, 78, 79, 80, 81, 82, 83, 84],\n",
       "      dtype=int64)"
      ]
     },
     "execution_count": 43,
     "metadata": {},
     "output_type": "execute_result"
    }
   ],
   "source": [
    "train_events['night'].unique()"
   ]
  },
  {
   "cell_type": "code",
   "execution_count": null,
   "metadata": {},
   "outputs": [],
   "source": []
  }
 ],
 "metadata": {
  "kernelspec": {
   "display_name": "Python 3",
   "language": "python",
   "name": "python3"
  },
  "language_info": {
   "codemirror_mode": {
    "name": "ipython",
    "version": 3
   },
   "file_extension": ".py",
   "mimetype": "text/x-python",
   "name": "python",
   "nbconvert_exporter": "python",
   "pygments_lexer": "ipython3",
   "version": "3.11.2"
  }
 },
 "nbformat": 4,
 "nbformat_minor": 2
}
