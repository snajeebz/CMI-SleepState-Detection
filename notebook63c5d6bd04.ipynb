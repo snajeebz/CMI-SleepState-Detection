{
 "cells": [
  {
   "cell_type": "markdown",
   "id": "03438a2c",
   "metadata": {
    "_cell_guid": "b1076dfc-b9ad-4769-8c92-a6c4dae69d19",
    "_uuid": "8f2839f25d086af736a60e9eeb907d3b93b6e0e5",
    "papermill": {
     "duration": 0.002694,
     "end_time": "2023-11-21T05:31:03.626837",
     "exception": false,
     "start_time": "2023-11-21T05:31:03.624143",
     "status": "completed"
    },
    "tags": []
   },
   "source": [
    "# [CMI-SleepState-Detection](https://www.kaggle.com/competitions/child-mind-institute-detect-sleep-states/overview)\n",
    "## Child Mind Institute - Detect Sleep States\n",
    "### Detect sleep onset and wake from wrist-worn accelerometer data\n",
    "_______________________________________________________________________ \n",
    "# Author Details:\n",
    "- Name: Najeeb Haider Zaidi\n",
    "- Email: zaidi.nh@gmail.com\n",
    "- Profiles: [Github](https://github.com/snajeebz)  [LinkedIn](https://www.linkedin.com/in/najeebz) [Kaggle](https://www.kaggle.com/najeebz)\n",
    "- License: Private, Unlicensed, All the files in this repository under any branch are Prohibited to be used commercially or for personally, communally or privately unless permitted by author in writing.\n",
    "- Copyrights 2023-2024 (c) are reserved only by the author: Najeeb Haider Zaidi\n",
    "________________________________________________________________________\n",
    "# Attributions:\n",
    "The Dataset has been provided by Child Mind Institute. in [Kaggle Competition](https://www.kaggle.com/competitions/child-mind-institute-detect-sleep-states/overview) which the author is participating in and authorized to use the dataset solely for the competition purposes.\n",
    "________________________________________________________________________"
   ]
  },
  {
   "cell_type": "code",
   "execution_count": 1,
   "id": "9135488f",
   "metadata": {
    "execution": {
     "iopub.execute_input": "2023-11-21T05:31:03.633522Z",
     "iopub.status.busy": "2023-11-21T05:31:03.632755Z",
     "iopub.status.idle": "2023-11-21T05:31:05.369673Z",
     "shell.execute_reply": "2023-11-21T05:31:05.368694Z"
    },
    "papermill": {
     "duration": 1.742855,
     "end_time": "2023-11-21T05:31:05.371926",
     "exception": false,
     "start_time": "2023-11-21T05:31:03.629071",
     "status": "completed"
    },
    "tags": []
   },
   "outputs": [
    {
     "name": "stdout",
     "output_type": "stream",
     "text": [
      "/kaggle/input/child-mind-institute-detect-sleep-states/train_series.parquet\n",
      "/kaggle/input/child-mind-institute-detect-sleep-states/sample_submission.csv\n",
      "/kaggle/input/child-mind-institute-detect-sleep-states/train_events.csv\n",
      "/kaggle/input/child-mind-institute-detect-sleep-states/test_series.parquet\n"
     ]
    }
   ],
   "source": [
    "import numpy as np # linear algebra\n",
    "import pandas as pd# data processing, CSV file I/O (e.g. pd.read_csv)\n",
    "import seaborn as sns\n",
    "import matplotlib.pyplot as plt\n",
    "from datetime import datetime as dts\n",
    "pd.set_option('display.max_row', 500)\n",
    "# Input data files are available in the read-only \"../input/\" directory\n",
    "# For example, running this (by clicking run or pressing Shift+Enter) will list all files under the input directory\n",
    "\n",
    "import os\n",
    "for dirname, _, filenames in os.walk('/kaggle/input'):\n",
    "    for filename in filenames:\n",
    "        print(os.path.join(dirname, filename))"
   ]
  },
  {
   "cell_type": "code",
   "execution_count": 2,
   "id": "c4a3d4d6",
   "metadata": {
    "execution": {
     "iopub.execute_input": "2023-11-21T05:31:05.379257Z",
     "iopub.status.busy": "2023-11-21T05:31:05.378403Z",
     "iopub.status.idle": "2023-11-21T05:32:03.284890Z",
     "shell.execute_reply": "2023-11-21T05:32:03.283320Z"
    },
    "papermill": {
     "duration": 57.912774,
     "end_time": "2023-11-21T05:32:03.287589",
     "exception": false,
     "start_time": "2023-11-21T05:31:05.374815",
     "status": "completed"
    },
    "tags": []
   },
   "outputs": [],
   "source": [
    "df=pd.read_parquet(path=\"/kaggle/input/child-mind-institute-detect-sleep-states/train_series.parquet\", engine='auto')"
   ]
  },
  {
   "cell_type": "code",
   "execution_count": 3,
   "id": "a14efaa5",
   "metadata": {
    "execution": {
     "iopub.execute_input": "2023-11-21T05:32:03.293556Z",
     "iopub.status.busy": "2023-11-21T05:32:03.293206Z",
     "iopub.status.idle": "2023-11-21T05:32:03.429910Z",
     "shell.execute_reply": "2023-11-21T05:32:03.428492Z"
    },
    "papermill": {
     "duration": 0.142465,
     "end_time": "2023-11-21T05:32:03.432349",
     "exception": false,
     "start_time": "2023-11-21T05:32:03.289884",
     "status": "completed"
    },
    "tags": []
   },
   "outputs": [],
   "source": [
    "train_events=pd.read_csv(\"/kaggle/input/child-mind-institute-detect-sleep-states/train_events.csv\")"
   ]
  },
  {
   "cell_type": "code",
   "execution_count": 4,
   "id": "0467943e",
   "metadata": {
    "execution": {
     "iopub.execute_input": "2023-11-21T05:32:03.438085Z",
     "iopub.status.busy": "2023-11-21T05:32:03.437722Z",
     "iopub.status.idle": "2023-11-21T05:32:03.443726Z",
     "shell.execute_reply": "2023-11-21T05:32:03.442351Z"
    },
    "papermill": {
     "duration": 0.01163,
     "end_time": "2023-11-21T05:32:03.446144",
     "exception": false,
     "start_time": "2023-11-21T05:32:03.434514",
     "status": "completed"
    },
    "tags": []
   },
   "outputs": [],
   "source": [
    "#'2018-08-14T15:30:00-0400'\n",
    "#\"2022-04-07T08:53:42.06717+02:00\"\n",
    "def tscv(dt):\n",
    "    d=dts.strptime(dt, \"%Y-%m-%dT%H:%M:%S%z\")\n",
    "    #d = dts.fromisoformat(dt)\n",
    "    ts=dts.timestamp(d)\n",
    "    #print('=', end =\"\")\n",
    "    return ts"
   ]
  },
  {
   "cell_type": "code",
   "execution_count": 5,
   "id": "70f86a2e",
   "metadata": {
    "execution": {
     "iopub.execute_input": "2023-11-21T05:32:03.451939Z",
     "iopub.status.busy": "2023-11-21T05:32:03.451651Z",
     "iopub.status.idle": "2023-11-21T06:01:14.686201Z",
     "shell.execute_reply": "2023-11-21T06:01:14.682128Z"
    },
    "papermill": {
     "duration": 1751.25032,
     "end_time": "2023-11-21T06:01:14.698910",
     "exception": false,
     "start_time": "2023-11-21T05:32:03.448590",
     "status": "completed"
    },
    "tags": []
   },
   "outputs": [],
   "source": [
    "df['ts']=df['timestamp'].apply(lambda x: tscv(x))\n",
    "df.to_parquet('df_mod.parquet')\n"
   ]
  }
 ],
 "metadata": {
  "kaggle": {
   "accelerator": "none",
   "dataSources": [
    {
     "databundleVersionId": 6589269,
     "sourceId": 53666,
     "sourceType": "competition"
    }
   ],
   "dockerImageVersionId": 30587,
   "isGpuEnabled": false,
   "isInternetEnabled": true,
   "language": "python",
   "sourceType": "notebook"
  },
  "kernelspec": {
   "display_name": "Python 3",
   "language": "python",
   "name": "python3"
  },
  "language_info": {
   "codemirror_mode": {
    "name": "ipython",
    "version": 3
   },
   "file_extension": ".py",
   "mimetype": "text/x-python",
   "name": "python",
   "nbconvert_exporter": "python",
   "pygments_lexer": "ipython3",
   "version": "3.10.12"
  },
  "papermill": {
   "default_parameters": {},
   "duration": 1816.474129,
   "end_time": "2023-11-21T06:01:17.340067",
   "environment_variables": {},
   "exception": null,
   "input_path": "__notebook__.ipynb",
   "output_path": "__notebook__.ipynb",
   "parameters": {},
   "start_time": "2023-11-21T05:31:00.865938",
   "version": "2.4.0"
  }
 },
 "nbformat": 4,
 "nbformat_minor": 5
}
