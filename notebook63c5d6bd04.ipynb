{
 "cells": [
  {
   "cell_type": "markdown",
   "id": "c660614a",
   "metadata": {
    "_cell_guid": "b1076dfc-b9ad-4769-8c92-a6c4dae69d19",
    "_uuid": "8f2839f25d086af736a60e9eeb907d3b93b6e0e5",
    "papermill": {
     "duration": 0.003045,
     "end_time": "2023-11-21T06:18:20.909479",
     "exception": false,
     "start_time": "2023-11-21T06:18:20.906434",
     "status": "completed"
    },
    "tags": []
   },
   "source": [
    "# [CMI-SleepState-Detection](https://www.kaggle.com/competitions/child-mind-institute-detect-sleep-states/overview)\n",
    "## Child Mind Institute - Detect Sleep States\n",
    "### Detect sleep onset and wake from wrist-worn accelerometer data\n",
    "_______________________________________________________________________ \n",
    "# Author Details:\n",
    "- Name: Najeeb Haider Zaidi\n",
    "- Email: zaidi.nh@gmail.com\n",
    "- Profiles: [Github](https://github.com/snajeebz)  [LinkedIn](https://www.linkedin.com/in/najeebz) [Kaggle](https://www.kaggle.com/najeebz)\n",
    "- License: Private, Unlicensed, All the files in this repository under any branch are Prohibited to be used commercially or for personally, communally or privately unless permitted by author in writing.\n",
    "- Copyrights 2023-2024 (c) are reserved only by the author: Najeeb Haider Zaidi\n",
    "________________________________________________________________________\n",
    "# Attributions:\n",
    "The Dataset has been provided by Child Mind Institute. in [Kaggle Competition](https://www.kaggle.com/competitions/child-mind-institute-detect-sleep-states/overview) which the author is participating in and authorized to use the dataset solely for the competition purposes.\n",
    "________________________________________________________________________"
   ]
  },
  {
   "cell_type": "code",
   "execution_count": 1,
   "id": "0728b4ce",
   "metadata": {
    "execution": {
     "iopub.execute_input": "2023-11-21T06:18:20.917980Z",
     "iopub.status.busy": "2023-11-21T06:18:20.917382Z",
     "iopub.status.idle": "2023-11-21T06:18:22.478590Z",
     "shell.execute_reply": "2023-11-21T06:18:22.477262Z"
    },
    "papermill": {
     "duration": 1.569954,
     "end_time": "2023-11-21T06:18:22.481714",
     "exception": false,
     "start_time": "2023-11-21T06:18:20.911760",
     "status": "completed"
    },
    "tags": []
   },
   "outputs": [
    {
     "name": "stdout",
     "output_type": "stream",
     "text": [
      "/kaggle/input/child-mind-institute-detect-sleep-states/train_series.parquet\n",
      "/kaggle/input/child-mind-institute-detect-sleep-states/sample_submission.csv\n",
      "/kaggle/input/child-mind-institute-detect-sleep-states/train_events.csv\n",
      "/kaggle/input/child-mind-institute-detect-sleep-states/test_series.parquet\n"
     ]
    }
   ],
   "source": [
    "import numpy as np # linear algebra\n",
    "import pandas as pd# data processing, CSV file I/O (e.g. pd.read_csv)\n",
    "import seaborn as sns\n",
    "import matplotlib.pyplot as plt\n",
    "from datetime import datetime as dts\n",
    "pd.set_option('display.max_row', 500)\n",
    "# Input data files are available in the read-only \"../input/\" directory\n",
    "# For example, running this (by clicking run or pressing Shift+Enter) will list all files under the input directory\n",
    "\n",
    "import os\n",
    "for dirname, _, filenames in os.walk('/kaggle/input'):\n",
    "    for filename in filenames:\n",
    "        print(os.path.join(dirname, filename))"
   ]
  },
  {
   "cell_type": "code",
   "execution_count": 2,
   "id": "e739d046",
   "metadata": {
    "execution": {
     "iopub.execute_input": "2023-11-21T06:18:22.488857Z",
     "iopub.status.busy": "2023-11-21T06:18:22.488351Z",
     "iopub.status.idle": "2023-11-21T06:19:25.382177Z",
     "shell.execute_reply": "2023-11-21T06:19:25.381127Z"
    },
    "papermill": {
     "duration": 62.900365,
     "end_time": "2023-11-21T06:19:25.385019",
     "exception": false,
     "start_time": "2023-11-21T06:18:22.484654",
     "status": "completed"
    },
    "tags": []
   },
   "outputs": [],
   "source": [
    "df=pd.read_parquet(path=\"/kaggle/input/child-mind-institute-detect-sleep-states/train_series.parquet\", engine='auto')"
   ]
  },
  {
   "cell_type": "code",
   "execution_count": 3,
   "id": "711132e3",
   "metadata": {
    "execution": {
     "iopub.execute_input": "2023-11-21T06:19:25.391278Z",
     "iopub.status.busy": "2023-11-21T06:19:25.390941Z",
     "iopub.status.idle": "2023-11-21T06:19:25.501597Z",
     "shell.execute_reply": "2023-11-21T06:19:25.500374Z"
    },
    "papermill": {
     "duration": 0.116434,
     "end_time": "2023-11-21T06:19:25.504043",
     "exception": false,
     "start_time": "2023-11-21T06:19:25.387609",
     "status": "completed"
    },
    "tags": []
   },
   "outputs": [],
   "source": [
    "train_events=pd.read_csv(\"/kaggle/input/child-mind-institute-detect-sleep-states/train_events.csv\")"
   ]
  },
  {
   "cell_type": "code",
   "execution_count": 4,
   "id": "10269824",
   "metadata": {
    "execution": {
     "iopub.execute_input": "2023-11-21T06:19:25.511034Z",
     "iopub.status.busy": "2023-11-21T06:19:25.510544Z",
     "iopub.status.idle": "2023-11-21T06:19:25.516121Z",
     "shell.execute_reply": "2023-11-21T06:19:25.514979Z"
    },
    "papermill": {
     "duration": 0.011956,
     "end_time": "2023-11-21T06:19:25.518617",
     "exception": false,
     "start_time": "2023-11-21T06:19:25.506661",
     "status": "completed"
    },
    "tags": []
   },
   "outputs": [],
   "source": [
    "#'2018-08-14T15:30:00-0400'\n",
    "#\"2022-04-07T08:53:42.06717+02:00\"\n",
    "def tscv(dt):\n",
    "    d=dts.strptime(dt, \"%Y-%m-%dT%H:%M:%S%z\")\n",
    "    #d = dts.fromisoformat(dt)\n",
    "    ts=dts.timestamp(d)\n",
    "    #print('=', end =\"\")\n",
    "    return ts"
   ]
  },
  {
   "cell_type": "code",
   "execution_count": 5,
   "id": "fb1b2245",
   "metadata": {
    "execution": {
     "iopub.execute_input": "2023-11-21T06:19:25.525504Z",
     "iopub.status.busy": "2023-11-21T06:19:25.525080Z",
     "iopub.status.idle": "2023-11-21T06:48:32.576515Z",
     "shell.execute_reply": "2023-11-21T06:48:32.573836Z"
    },
    "papermill": {
     "duration": 1747.063156,
     "end_time": "2023-11-21T06:48:32.584427",
     "exception": false,
     "start_time": "2023-11-21T06:19:25.521271",
     "status": "completed"
    },
    "tags": []
   },
   "outputs": [],
   "source": [
    "df['ts']=df['timestamp'].apply(lambda x: tscv(x))\n",
    "df.to_parquet('df_mod.parquet')\n"
   ]
  },
  {
   "cell_type": "code",
   "execution_count": 6,
   "id": "4f158575",
   "metadata": {
    "execution": {
     "iopub.execute_input": "2023-11-21T06:48:32.635989Z",
     "iopub.status.busy": "2023-11-21T06:48:32.635467Z",
     "iopub.status.idle": "2023-11-21T06:48:32.664869Z",
     "shell.execute_reply": "2023-11-21T06:48:32.663185Z"
    },
    "papermill": {
     "duration": 0.076776,
     "end_time": "2023-11-21T06:48:32.668030",
     "exception": false,
     "start_time": "2023-11-21T06:48:32.591254",
     "status": "completed"
    },
    "tags": []
   },
   "outputs": [
    {
     "data": {
      "text/html": [
       "<div>\n",
       "<style scoped>\n",
       "    .dataframe tbody tr th:only-of-type {\n",
       "        vertical-align: middle;\n",
       "    }\n",
       "\n",
       "    .dataframe tbody tr th {\n",
       "        vertical-align: top;\n",
       "    }\n",
       "\n",
       "    .dataframe thead th {\n",
       "        text-align: right;\n",
       "    }\n",
       "</style>\n",
       "<table border=\"1\" class=\"dataframe\">\n",
       "  <thead>\n",
       "    <tr style=\"text-align: right;\">\n",
       "      <th></th>\n",
       "      <th>series_id</th>\n",
       "      <th>step</th>\n",
       "      <th>timestamp</th>\n",
       "      <th>anglez</th>\n",
       "      <th>enmo</th>\n",
       "      <th>ts</th>\n",
       "    </tr>\n",
       "  </thead>\n",
       "  <tbody>\n",
       "    <tr>\n",
       "      <th>0</th>\n",
       "      <td>038441c925bb</td>\n",
       "      <td>0</td>\n",
       "      <td>2018-08-14T15:30:00-0400</td>\n",
       "      <td>2.6367</td>\n",
       "      <td>0.0217</td>\n",
       "      <td>1.534275e+09</td>\n",
       "    </tr>\n",
       "    <tr>\n",
       "      <th>1</th>\n",
       "      <td>038441c925bb</td>\n",
       "      <td>1</td>\n",
       "      <td>2018-08-14T15:30:05-0400</td>\n",
       "      <td>2.6368</td>\n",
       "      <td>0.0215</td>\n",
       "      <td>1.534275e+09</td>\n",
       "    </tr>\n",
       "    <tr>\n",
       "      <th>2</th>\n",
       "      <td>038441c925bb</td>\n",
       "      <td>2</td>\n",
       "      <td>2018-08-14T15:30:10-0400</td>\n",
       "      <td>2.6370</td>\n",
       "      <td>0.0216</td>\n",
       "      <td>1.534275e+09</td>\n",
       "    </tr>\n",
       "    <tr>\n",
       "      <th>3</th>\n",
       "      <td>038441c925bb</td>\n",
       "      <td>3</td>\n",
       "      <td>2018-08-14T15:30:15-0400</td>\n",
       "      <td>2.6368</td>\n",
       "      <td>0.0213</td>\n",
       "      <td>1.534275e+09</td>\n",
       "    </tr>\n",
       "    <tr>\n",
       "      <th>4</th>\n",
       "      <td>038441c925bb</td>\n",
       "      <td>4</td>\n",
       "      <td>2018-08-14T15:30:20-0400</td>\n",
       "      <td>2.6368</td>\n",
       "      <td>0.0215</td>\n",
       "      <td>1.534275e+09</td>\n",
       "    </tr>\n",
       "  </tbody>\n",
       "</table>\n",
       "</div>"
      ],
      "text/plain": [
       "      series_id  step                 timestamp  anglez    enmo            ts\n",
       "0  038441c925bb     0  2018-08-14T15:30:00-0400  2.6367  0.0217  1.534275e+09\n",
       "1  038441c925bb     1  2018-08-14T15:30:05-0400  2.6368  0.0215  1.534275e+09\n",
       "2  038441c925bb     2  2018-08-14T15:30:10-0400  2.6370  0.0216  1.534275e+09\n",
       "3  038441c925bb     3  2018-08-14T15:30:15-0400  2.6368  0.0213  1.534275e+09\n",
       "4  038441c925bb     4  2018-08-14T15:30:20-0400  2.6368  0.0215  1.534275e+09"
      ]
     },
     "execution_count": 6,
     "metadata": {},
     "output_type": "execute_result"
    }
   ],
   "source": [
    "df.head()"
   ]
  },
  {
   "cell_type": "code",
   "execution_count": null,
   "id": "ce4c3d8b",
   "metadata": {
    "papermill": {
     "duration": 0.002653,
     "end_time": "2023-11-21T06:48:32.674184",
     "exception": false,
     "start_time": "2023-11-21T06:48:32.671531",
     "status": "completed"
    },
    "tags": []
   },
   "outputs": [],
   "source": []
  }
 ],
 "metadata": {
  "kaggle": {
   "accelerator": "none",
   "dataSources": [
    {
     "databundleVersionId": 6589269,
     "sourceId": 53666,
     "sourceType": "competition"
    }
   ],
   "dockerImageVersionId": 30587,
   "isGpuEnabled": false,
   "isInternetEnabled": true,
   "language": "python",
   "sourceType": "notebook"
  },
  "kernelspec": {
   "display_name": "Python 3",
   "language": "python",
   "name": "python3"
  },
  "language_info": {
   "codemirror_mode": {
    "name": "ipython",
    "version": 3
   },
   "file_extension": ".py",
   "mimetype": "text/x-python",
   "name": "python",
   "nbconvert_exporter": "python",
   "pygments_lexer": "ipython3",
   "version": "3.10.12"
  },
  "papermill": {
   "default_parameters": {},
   "duration": 1817.071264,
   "end_time": "2023-11-21T06:48:35.305198",
   "environment_variables": {},
   "exception": null,
   "input_path": "__notebook__.ipynb",
   "output_path": "__notebook__.ipynb",
   "parameters": {},
   "start_time": "2023-11-21T06:18:18.233934",
   "version": "2.4.0"
  }
 },
 "nbformat": 4,
 "nbformat_minor": 5
}
