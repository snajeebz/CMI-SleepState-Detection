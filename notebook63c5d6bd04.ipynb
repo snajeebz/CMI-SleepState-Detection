{
 "cells": [
  {
   "cell_type": "markdown",
   "id": "96086996",
   "metadata": {
    "_cell_guid": "b1076dfc-b9ad-4769-8c92-a6c4dae69d19",
    "_uuid": "8f2839f25d086af736a60e9eeb907d3b93b6e0e5",
    "papermill": {
     "duration": 0.004176,
     "end_time": "2023-11-21T07:54:48.581211",
     "exception": false,
     "start_time": "2023-11-21T07:54:48.577035",
     "status": "completed"
    },
    "tags": []
   },
   "source": [
    "# [CMI-SleepState-Detection](https://www.kaggle.com/competitions/child-mind-institute-detect-sleep-states/overview)\n",
    "## Child Mind Institute - Detect Sleep States\n",
    "### Detect sleep onset and wake from wrist-worn accelerometer data\n",
    "_______________________________________________________________________ \n",
    "# Author Details:\n",
    "- Name: Najeeb Haider Zaidi\n",
    "- Email: zaidi.nh@gmail.com\n",
    "- Profiles: [Github](https://github.com/snajeebz)  [LinkedIn](https://www.linkedin.com/in/najeebz) [Kaggle](https://www.kaggle.com/najeebz)\n",
    "- License: Private, Unlicensed, All the files in this repository under any branch are Prohibited to be used commercially or for personally, communally or privately unless permitted by author in writing.\n",
    "- Copyrights 2023-2024 (c) are reserved only by the author: Najeeb Haider Zaidi\n",
    "________________________________________________________________________\n",
    "# Attributions:\n",
    "The Dataset has been provided by Child Mind Institute. in [Kaggle Competition](https://www.kaggle.com/competitions/child-mind-institute-detect-sleep-states/overview) which the author is participating in and authorized to use the dataset solely for the competition purposes.\n",
    "________________________________________________________________________"
   ]
  },
  {
   "cell_type": "code",
   "execution_count": 1,
   "id": "fbe1ac51",
   "metadata": {
    "execution": {
     "iopub.execute_input": "2023-11-21T07:54:48.592383Z",
     "iopub.status.busy": "2023-11-21T07:54:48.591882Z",
     "iopub.status.idle": "2023-11-21T07:54:50.464267Z",
     "shell.execute_reply": "2023-11-21T07:54:50.463086Z"
    },
    "papermill": {
     "duration": 1.881954,
     "end_time": "2023-11-21T07:54:50.466915",
     "exception": false,
     "start_time": "2023-11-21T07:54:48.584961",
     "status": "completed"
    },
    "tags": []
   },
   "outputs": [
    {
     "name": "stdout",
     "output_type": "stream",
     "text": [
      "/kaggle/input/child-mind-institute-detect-sleep-states/train_series.parquet\n",
      "/kaggle/input/child-mind-institute-detect-sleep-states/sample_submission.csv\n",
      "/kaggle/input/child-mind-institute-detect-sleep-states/train_events.csv\n",
      "/kaggle/input/child-mind-institute-detect-sleep-states/test_series.parquet\n"
     ]
    }
   ],
   "source": [
    "import numpy as np # linear algebra\n",
    "import pandas as pd# data processing, CSV file I/O (e.g. pd.read_csv)\n",
    "import seaborn as sns\n",
    "import matplotlib.pyplot as plt\n",
    "from datetime import datetime as dts\n",
    "pd.set_option('display.max_row', 500)\n",
    "# Input data files are available in the read-only \"../input/\" directory\n",
    "# For example, running this (by clicking run or pressing Shift+Enter) will list all files under the input directory\n",
    "\n",
    "import os\n",
    "for dirname, _, filenames in os.walk('/kaggle/input'):\n",
    "    for filename in filenames:\n",
    "        print(os.path.join(dirname, filename))"
   ]
  },
  {
   "cell_type": "code",
   "execution_count": 2,
   "id": "a203faae",
   "metadata": {
    "execution": {
     "iopub.execute_input": "2023-11-21T07:54:50.476705Z",
     "iopub.status.busy": "2023-11-21T07:54:50.476158Z",
     "iopub.status.idle": "2023-11-21T07:55:45.288806Z",
     "shell.execute_reply": "2023-11-21T07:55:45.287438Z"
    },
    "papermill": {
     "duration": 54.821571,
     "end_time": "2023-11-21T07:55:45.292538",
     "exception": false,
     "start_time": "2023-11-21T07:54:50.470967",
     "status": "completed"
    },
    "tags": []
   },
   "outputs": [],
   "source": [
    "df=pd.read_parquet(path=\"/kaggle/input/child-mind-institute-detect-sleep-states/train_series.parquet\", engine='auto')"
   ]
  },
  {
   "cell_type": "code",
   "execution_count": 3,
   "id": "2badb087",
   "metadata": {
    "execution": {
     "iopub.execute_input": "2023-11-21T07:55:45.304695Z",
     "iopub.status.busy": "2023-11-21T07:55:45.304159Z",
     "iopub.status.idle": "2023-11-21T07:55:45.520739Z",
     "shell.execute_reply": "2023-11-21T07:55:45.519341Z"
    },
    "papermill": {
     "duration": 0.225924,
     "end_time": "2023-11-21T07:55:45.524057",
     "exception": false,
     "start_time": "2023-11-21T07:55:45.298133",
     "status": "completed"
    },
    "tags": []
   },
   "outputs": [],
   "source": [
    "train_events=pd.read_csv(\"/kaggle/input/child-mind-institute-detect-sleep-states/train_events.csv\")"
   ]
  },
  {
   "cell_type": "code",
   "execution_count": 4,
   "id": "b1903828",
   "metadata": {
    "execution": {
     "iopub.execute_input": "2023-11-21T07:55:45.533934Z",
     "iopub.status.busy": "2023-11-21T07:55:45.533145Z",
     "iopub.status.idle": "2023-11-21T07:55:45.539217Z",
     "shell.execute_reply": "2023-11-21T07:55:45.538341Z"
    },
    "papermill": {
     "duration": 0.013617,
     "end_time": "2023-11-21T07:55:45.541598",
     "exception": false,
     "start_time": "2023-11-21T07:55:45.527981",
     "status": "completed"
    },
    "tags": []
   },
   "outputs": [],
   "source": [
    "#'2018-08-14T15:30:00-0400'\n",
    "#\"2022-04-07T08:53:42.06717+02:00\"\n",
    "def tscv(dt):\n",
    "    d=dts.strptime(dt, \"%Y-%m-%dT%H:%M:%S%z\")\n",
    "    #d = dts.fromisoformat(dt)\n",
    "    ts=dts.timestamp(d)\n",
    "    #print('=', end =\"\")\n",
    "    return ts"
   ]
  },
  {
   "cell_type": "code",
   "execution_count": 5,
   "id": "34909f58",
   "metadata": {
    "execution": {
     "iopub.execute_input": "2023-11-21T07:55:45.551329Z",
     "iopub.status.busy": "2023-11-21T07:55:45.550876Z",
     "iopub.status.idle": "2023-11-21T08:53:50.080891Z",
     "shell.execute_reply": "2023-11-21T08:53:50.078569Z"
    },
    "papermill": {
     "duration": 3484.542219,
     "end_time": "2023-11-21T08:53:50.087766",
     "exception": false,
     "start_time": "2023-11-21T07:55:45.545547",
     "status": "completed"
    },
    "tags": []
   },
   "outputs": [],
   "source": [
    "df['ts']=df['timestamp'].apply(lambda x: tscv(x))\n",
    "df.sort_values(by=['series_id', 'ts','step'])\n",
    "df.to_parquet('df_mod.parquet')\n"
   ]
  },
  {
   "cell_type": "code",
   "execution_count": 6,
   "id": "56a3820a",
   "metadata": {
    "execution": {
     "iopub.execute_input": "2023-11-21T08:53:50.131427Z",
     "iopub.status.busy": "2023-11-21T08:53:50.129875Z",
     "iopub.status.idle": "2023-11-21T08:53:50.162026Z",
     "shell.execute_reply": "2023-11-21T08:53:50.160698Z"
    },
    "papermill": {
     "duration": 0.069508,
     "end_time": "2023-11-21T08:53:50.165924",
     "exception": false,
     "start_time": "2023-11-21T08:53:50.096416",
     "status": "completed"
    },
    "tags": []
   },
   "outputs": [
    {
     "data": {
      "text/html": [
       "<div>\n",
       "<style scoped>\n",
       "    .dataframe tbody tr th:only-of-type {\n",
       "        vertical-align: middle;\n",
       "    }\n",
       "\n",
       "    .dataframe tbody tr th {\n",
       "        vertical-align: top;\n",
       "    }\n",
       "\n",
       "    .dataframe thead th {\n",
       "        text-align: right;\n",
       "    }\n",
       "</style>\n",
       "<table border=\"1\" class=\"dataframe\">\n",
       "  <thead>\n",
       "    <tr style=\"text-align: right;\">\n",
       "      <th></th>\n",
       "      <th>series_id</th>\n",
       "      <th>step</th>\n",
       "      <th>timestamp</th>\n",
       "      <th>anglez</th>\n",
       "      <th>enmo</th>\n",
       "      <th>ts</th>\n",
       "    </tr>\n",
       "  </thead>\n",
       "  <tbody>\n",
       "    <tr>\n",
       "      <th>0</th>\n",
       "      <td>038441c925bb</td>\n",
       "      <td>0</td>\n",
       "      <td>2018-08-14T15:30:00-0400</td>\n",
       "      <td>2.6367</td>\n",
       "      <td>0.0217</td>\n",
       "      <td>1.534275e+09</td>\n",
       "    </tr>\n",
       "    <tr>\n",
       "      <th>1</th>\n",
       "      <td>038441c925bb</td>\n",
       "      <td>1</td>\n",
       "      <td>2018-08-14T15:30:05-0400</td>\n",
       "      <td>2.6368</td>\n",
       "      <td>0.0215</td>\n",
       "      <td>1.534275e+09</td>\n",
       "    </tr>\n",
       "    <tr>\n",
       "      <th>2</th>\n",
       "      <td>038441c925bb</td>\n",
       "      <td>2</td>\n",
       "      <td>2018-08-14T15:30:10-0400</td>\n",
       "      <td>2.6370</td>\n",
       "      <td>0.0216</td>\n",
       "      <td>1.534275e+09</td>\n",
       "    </tr>\n",
       "    <tr>\n",
       "      <th>3</th>\n",
       "      <td>038441c925bb</td>\n",
       "      <td>3</td>\n",
       "      <td>2018-08-14T15:30:15-0400</td>\n",
       "      <td>2.6368</td>\n",
       "      <td>0.0213</td>\n",
       "      <td>1.534275e+09</td>\n",
       "    </tr>\n",
       "    <tr>\n",
       "      <th>4</th>\n",
       "      <td>038441c925bb</td>\n",
       "      <td>4</td>\n",
       "      <td>2018-08-14T15:30:20-0400</td>\n",
       "      <td>2.6368</td>\n",
       "      <td>0.0215</td>\n",
       "      <td>1.534275e+09</td>\n",
       "    </tr>\n",
       "  </tbody>\n",
       "</table>\n",
       "</div>"
      ],
      "text/plain": [
       "      series_id  step                 timestamp  anglez    enmo            ts\n",
       "0  038441c925bb     0  2018-08-14T15:30:00-0400  2.6367  0.0217  1.534275e+09\n",
       "1  038441c925bb     1  2018-08-14T15:30:05-0400  2.6368  0.0215  1.534275e+09\n",
       "2  038441c925bb     2  2018-08-14T15:30:10-0400  2.6370  0.0216  1.534275e+09\n",
       "3  038441c925bb     3  2018-08-14T15:30:15-0400  2.6368  0.0213  1.534275e+09\n",
       "4  038441c925bb     4  2018-08-14T15:30:20-0400  2.6368  0.0215  1.534275e+09"
      ]
     },
     "execution_count": 6,
     "metadata": {},
     "output_type": "execute_result"
    }
   ],
   "source": [
    "df.head()                                                                                                                                                                                                                                                                                                                                                                                                                                                                                                                                                                                                                                                                                                                                                                                                                                                                                                                                                                                                                                                                                                                                                                                                                                      "
   ]
  },
  {
   "cell_type": "code",
   "execution_count": 7,
   "id": "ed9ca741",
   "metadata": {
    "execution": {
     "iopub.execute_input": "2023-11-21T08:53:50.181187Z",
     "iopub.status.busy": "2023-11-21T08:53:50.180749Z",
     "iopub.status.idle": "2023-11-21T08:56:10.387457Z",
     "shell.execute_reply": "2023-11-21T08:56:10.386194Z"
    },
    "papermill": {
     "duration": 140.220985,
     "end_time": "2023-11-21T08:56:10.394692",
     "exception": false,
     "start_time": "2023-11-21T08:53:50.173707",
     "status": "completed"
    },
    "tags": []
   },
   "outputs": [
    {
     "data": {
      "text/html": [
       "<div>\n",
       "<style scoped>\n",
       "    .dataframe tbody tr th:only-of-type {\n",
       "        vertical-align: middle;\n",
       "    }\n",
       "\n",
       "    .dataframe tbody tr th {\n",
       "        vertical-align: top;\n",
       "    }\n",
       "\n",
       "    .dataframe thead th {\n",
       "        text-align: right;\n",
       "    }\n",
       "</style>\n",
       "<table border=\"1\" class=\"dataframe\">\n",
       "  <thead>\n",
       "    <tr style=\"text-align: right;\">\n",
       "      <th></th>\n",
       "      <th>series_id</th>\n",
       "      <th>step</th>\n",
       "      <th>timestamp</th>\n",
       "      <th>anglez</th>\n",
       "      <th>enmo</th>\n",
       "      <th>ts</th>\n",
       "    </tr>\n",
       "  </thead>\n",
       "  <tbody>\n",
       "    <tr>\n",
       "      <th>0</th>\n",
       "      <td>038441c925bb</td>\n",
       "      <td>0</td>\n",
       "      <td>2018-08-14T15:30:00-0400</td>\n",
       "      <td>2.636700</td>\n",
       "      <td>0.0217</td>\n",
       "      <td>1.534275e+09</td>\n",
       "    </tr>\n",
       "    <tr>\n",
       "      <th>1</th>\n",
       "      <td>038441c925bb</td>\n",
       "      <td>1</td>\n",
       "      <td>2018-08-14T15:30:05-0400</td>\n",
       "      <td>2.636800</td>\n",
       "      <td>0.0215</td>\n",
       "      <td>1.534275e+09</td>\n",
       "    </tr>\n",
       "    <tr>\n",
       "      <th>2</th>\n",
       "      <td>038441c925bb</td>\n",
       "      <td>2</td>\n",
       "      <td>2018-08-14T15:30:10-0400</td>\n",
       "      <td>2.637000</td>\n",
       "      <td>0.0216</td>\n",
       "      <td>1.534275e+09</td>\n",
       "    </tr>\n",
       "    <tr>\n",
       "      <th>3</th>\n",
       "      <td>038441c925bb</td>\n",
       "      <td>3</td>\n",
       "      <td>2018-08-14T15:30:15-0400</td>\n",
       "      <td>2.636800</td>\n",
       "      <td>0.0213</td>\n",
       "      <td>1.534275e+09</td>\n",
       "    </tr>\n",
       "    <tr>\n",
       "      <th>4</th>\n",
       "      <td>038441c925bb</td>\n",
       "      <td>4</td>\n",
       "      <td>2018-08-14T15:30:20-0400</td>\n",
       "      <td>2.636800</td>\n",
       "      <td>0.0215</td>\n",
       "      <td>1.534275e+09</td>\n",
       "    </tr>\n",
       "    <tr>\n",
       "      <th>...</th>\n",
       "      <td>...</td>\n",
       "      <td>...</td>\n",
       "      <td>...</td>\n",
       "      <td>...</td>\n",
       "      <td>...</td>\n",
       "      <td>...</td>\n",
       "    </tr>\n",
       "    <tr>\n",
       "      <th>127946335</th>\n",
       "      <td>fe90110788d2</td>\n",
       "      <td>592375</td>\n",
       "      <td>2017-09-08T00:14:35-0400</td>\n",
       "      <td>-27.277500</td>\n",
       "      <td>0.0204</td>\n",
       "      <td>1.504844e+09</td>\n",
       "    </tr>\n",
       "    <tr>\n",
       "      <th>127946336</th>\n",
       "      <td>fe90110788d2</td>\n",
       "      <td>592376</td>\n",
       "      <td>2017-09-08T00:14:40-0400</td>\n",
       "      <td>-27.032499</td>\n",
       "      <td>0.0233</td>\n",
       "      <td>1.504844e+09</td>\n",
       "    </tr>\n",
       "    <tr>\n",
       "      <th>127946337</th>\n",
       "      <td>fe90110788d2</td>\n",
       "      <td>592377</td>\n",
       "      <td>2017-09-08T00:14:45-0400</td>\n",
       "      <td>-26.841200</td>\n",
       "      <td>0.0202</td>\n",
       "      <td>1.504844e+09</td>\n",
       "    </tr>\n",
       "    <tr>\n",
       "      <th>127946338</th>\n",
       "      <td>fe90110788d2</td>\n",
       "      <td>592378</td>\n",
       "      <td>2017-09-08T00:14:50-0400</td>\n",
       "      <td>-26.723900</td>\n",
       "      <td>0.0199</td>\n",
       "      <td>1.504844e+09</td>\n",
       "    </tr>\n",
       "    <tr>\n",
       "      <th>127946339</th>\n",
       "      <td>fe90110788d2</td>\n",
       "      <td>592379</td>\n",
       "      <td>2017-09-08T00:14:55-0400</td>\n",
       "      <td>-31.521601</td>\n",
       "      <td>0.0205</td>\n",
       "      <td>1.504844e+09</td>\n",
       "    </tr>\n",
       "  </tbody>\n",
       "</table>\n",
       "<p>127946340 rows × 6 columns</p>\n",
       "</div>"
      ],
      "text/plain": [
       "              series_id    step                 timestamp     anglez    enmo  \\\n",
       "0          038441c925bb       0  2018-08-14T15:30:00-0400   2.636700  0.0217   \n",
       "1          038441c925bb       1  2018-08-14T15:30:05-0400   2.636800  0.0215   \n",
       "2          038441c925bb       2  2018-08-14T15:30:10-0400   2.637000  0.0216   \n",
       "3          038441c925bb       3  2018-08-14T15:30:15-0400   2.636800  0.0213   \n",
       "4          038441c925bb       4  2018-08-14T15:30:20-0400   2.636800  0.0215   \n",
       "...                 ...     ...                       ...        ...     ...   \n",
       "127946335  fe90110788d2  592375  2017-09-08T00:14:35-0400 -27.277500  0.0204   \n",
       "127946336  fe90110788d2  592376  2017-09-08T00:14:40-0400 -27.032499  0.0233   \n",
       "127946337  fe90110788d2  592377  2017-09-08T00:14:45-0400 -26.841200  0.0202   \n",
       "127946338  fe90110788d2  592378  2017-09-08T00:14:50-0400 -26.723900  0.0199   \n",
       "127946339  fe90110788d2  592379  2017-09-08T00:14:55-0400 -31.521601  0.0205   \n",
       "\n",
       "                     ts  \n",
       "0          1.534275e+09  \n",
       "1          1.534275e+09  \n",
       "2          1.534275e+09  \n",
       "3          1.534275e+09  \n",
       "4          1.534275e+09  \n",
       "...                 ...  \n",
       "127946335  1.504844e+09  \n",
       "127946336  1.504844e+09  \n",
       "127946337  1.504844e+09  \n",
       "127946338  1.504844e+09  \n",
       "127946339  1.504844e+09  \n",
       "\n",
       "[127946340 rows x 6 columns]"
      ]
     },
     "execution_count": 7,
     "metadata": {},
     "output_type": "execute_result"
    }
   ],
   "source": [
    "df.sort_values(by=['series_id', 'ts','step'])"
   ]
  }
 ],
 "metadata": {
  "kaggle": {
   "accelerator": "none",
   "dataSources": [
    {
     "databundleVersionId": 6589269,
     "sourceId": 53666,
     "sourceType": "competition"
    }
   ],
   "dockerImageVersionId": 30587,
   "isGpuEnabled": false,
   "isInternetEnabled": true,
   "language": "python",
   "sourceType": "notebook"
  },
  "kernelspec": {
   "display_name": "Python 3",
   "language": "python",
   "name": "python3"
  },
  "language_info": {
   "codemirror_mode": {
    "name": "ipython",
    "version": 3
   },
   "file_extension": ".py",
   "mimetype": "text/x-python",
   "name": "python",
   "nbconvert_exporter": "python",
   "pygments_lexer": "ipython3",
   "version": "3.10.12"
  },
  "papermill": {
   "default_parameters": {},
   "duration": 3688.109704,
   "end_time": "2023-11-21T08:56:13.232879",
   "environment_variables": {},
   "exception": null,
   "input_path": "__notebook__.ipynb",
   "output_path": "__notebook__.ipynb",
   "parameters": {},
   "start_time": "2023-11-21T07:54:45.123175",
   "version": "2.4.0"
  }
 },
 "nbformat": 4,
 "nbformat_minor": 5
}
