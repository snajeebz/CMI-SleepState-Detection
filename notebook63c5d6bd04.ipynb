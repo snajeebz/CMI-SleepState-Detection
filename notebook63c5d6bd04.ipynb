{
 "cells": [
  {
   "cell_type": "markdown",
   "id": "c75a7b24",
   "metadata": {
    "_cell_guid": "b1076dfc-b9ad-4769-8c92-a6c4dae69d19",
    "_uuid": "8f2839f25d086af736a60e9eeb907d3b93b6e0e5",
    "papermill": {
     "duration": 0.006608,
     "end_time": "2023-11-21T09:30:50.840922",
     "exception": false,
     "start_time": "2023-11-21T09:30:50.834314",
     "status": "completed"
    },
    "tags": []
   },
   "source": [
    "# [CMI-SleepState-Detection](https://www.kaggle.com/competitions/child-mind-institute-detect-sleep-states/overview)\n",
    "## Child Mind Institute - Detect Sleep States\n",
    "### Detect sleep onset and wake from wrist-worn accelerometer data\n",
    "_______________________________________________________________________ \n",
    "# Author Details:\n",
    "- Name: Najeeb Haider Zaidi\n",
    "- Email: zaidi.nh@gmail.com\n",
    "- Profiles: [Github](https://github.com/snajeebz)  [LinkedIn](https://www.linkedin.com/in/najeebz) [Kaggle](https://www.kaggle.com/najeebz)\n",
    "- License: Private, Unlicensed, All the files in this repository under any branch are Prohibited to be used commercially or for personally, communally or privately unless permitted by author in writing.\n",
    "- Copyrights 2023-2024 (c) are reserved only by the author: Najeeb Haider Zaidi\n",
    "________________________________________________________________________\n",
    "# Attributions:\n",
    "The Dataset has been provided by Child Mind Institute. in [Kaggle Competition](https://www.kaggle.com/competitions/child-mind-institute-detect-sleep-states/overview) which the author is participating in and authorized to use the dataset solely for the competition purposes.\n",
    "________________________________________________________________________"
   ]
  },
  {
   "cell_type": "code",
   "execution_count": 1,
   "id": "f32e00aa",
   "metadata": {
    "execution": {
     "iopub.execute_input": "2023-11-21T09:30:50.857828Z",
     "iopub.status.busy": "2023-11-21T09:30:50.857100Z",
     "iopub.status.idle": "2023-11-21T09:30:53.811705Z",
     "shell.execute_reply": "2023-11-21T09:30:53.809878Z"
    },
    "papermill": {
     "duration": 2.965365,
     "end_time": "2023-11-21T09:30:53.814425",
     "exception": false,
     "start_time": "2023-11-21T09:30:50.849060",
     "status": "completed"
    },
    "tags": []
   },
   "outputs": [
    {
     "name": "stdout",
     "output_type": "stream",
     "text": [
      "/kaggle/input/train-series-modified/df_mod.parquet\n",
      "/kaggle/input/child-mind-institute-detect-sleep-states/train_series.parquet\n",
      "/kaggle/input/child-mind-institute-detect-sleep-states/sample_submission.csv\n",
      "/kaggle/input/child-mind-institute-detect-sleep-states/train_events.csv\n",
      "/kaggle/input/child-mind-institute-detect-sleep-states/test_series.parquet\n"
     ]
    }
   ],
   "source": [
    "import numpy as np # linear algebra\n",
    "import pandas as pd# data processing, CSV file I/O (e.g. pd.read_csv)\n",
    "import seaborn as sns\n",
    "import plotly.express as px\n",
    "import matplotlib.pyplot as plt\n",
    "from datetime import datetime as dts\n",
    "pd.set_option('display.max_row', 500)\n",
    "# Input data files are available in the read-only \"../input/\" directory\n",
    "# For example, running this (by clicking run or pressing Shift+Enter) will list all files under the input directory\n",
    "\n",
    "import os\n",
    "for dirname, _, filenames in os.walk('/kaggle/input'):\n",
    "    for filename in filenames:\n",
    "        print(os.path.join(dirname, filename))"
   ]
  },
  {
   "cell_type": "code",
   "execution_count": 2,
   "id": "c1dcb952",
   "metadata": {
    "execution": {
     "iopub.execute_input": "2023-11-21T09:30:53.828949Z",
     "iopub.status.busy": "2023-11-21T09:30:53.828280Z",
     "iopub.status.idle": "2023-11-21T09:32:10.576731Z",
     "shell.execute_reply": "2023-11-21T09:32:10.575297Z"
    },
    "papermill": {
     "duration": 76.759132,
     "end_time": "2023-11-21T09:32:10.579889",
     "exception": false,
     "start_time": "2023-11-21T09:30:53.820757",
     "status": "completed"
    },
    "tags": []
   },
   "outputs": [],
   "source": [
    "df=pd.read_parquet(path=\"/kaggle/input/child-mind-institute-detect-sleep-states/train_series.parquet\", engine='auto')"
   ]
  },
  {
   "cell_type": "code",
   "execution_count": 3,
   "id": "41cd8293",
   "metadata": {
    "execution": {
     "iopub.execute_input": "2023-11-21T09:32:10.595050Z",
     "iopub.status.busy": "2023-11-21T09:32:10.594364Z",
     "iopub.status.idle": "2023-11-21T09:32:10.656541Z",
     "shell.execute_reply": "2023-11-21T09:32:10.655648Z"
    },
    "papermill": {
     "duration": 0.072839,
     "end_time": "2023-11-21T09:32:10.659210",
     "exception": false,
     "start_time": "2023-11-21T09:32:10.586371",
     "status": "completed"
    },
    "tags": []
   },
   "outputs": [],
   "source": [
    "train_events=pd.read_csv(\"/kaggle/input/child-mind-institute-detect-sleep-states/train_events.csv\")"
   ]
  },
  {
   "cell_type": "code",
   "execution_count": 4,
   "id": "fcff0271",
   "metadata": {
    "execution": {
     "iopub.execute_input": "2023-11-21T09:32:10.675443Z",
     "iopub.status.busy": "2023-11-21T09:32:10.673254Z",
     "iopub.status.idle": "2023-11-21T09:32:10.680901Z",
     "shell.execute_reply": "2023-11-21T09:32:10.680031Z"
    },
    "papermill": {
     "duration": 0.017468,
     "end_time": "2023-11-21T09:32:10.683136",
     "exception": false,
     "start_time": "2023-11-21T09:32:10.665668",
     "status": "completed"
    },
    "tags": []
   },
   "outputs": [],
   "source": [
    "#'2018-08-14T15:30:00-0400'\n",
    "#\"2022-04-07T08:53:42.06717+02:00\"\n",
    "def tscv(dt):\n",
    "    d=dts.strptime(dt, \"%Y-%m-%dT%H:%M:%S%z\")\n",
    "    #d = dts.fromisoformat(dt)\n",
    "    ts=dts.timestamp(d)\n",
    "    #print('=', end =\"\")\n",
    "    return ts"
   ]
  },
  {
   "cell_type": "code",
   "execution_count": 5,
   "id": "ae66594f",
   "metadata": {
    "execution": {
     "iopub.execute_input": "2023-11-21T09:32:10.697894Z",
     "iopub.status.busy": "2023-11-21T09:32:10.697121Z",
     "iopub.status.idle": "2023-11-21T10:30:31.015837Z",
     "shell.execute_reply": "2023-11-21T10:30:31.011779Z"
    },
    "papermill": {
     "duration": 3500.331912,
     "end_time": "2023-11-21T10:30:31.021342",
     "exception": false,
     "start_time": "2023-11-21T09:32:10.689430",
     "status": "completed"
    },
    "tags": []
   },
   "outputs": [],
   "source": [
    "df['ts']=df['timestamp'].apply(lambda x: tscv(x))\n",
    "df.sort_values(by=['series_id', 'ts','step'])\n",
    "df.to_parquet('df_mod.parquet')\n"
   ]
  },
  {
   "cell_type": "code",
   "execution_count": 6,
   "id": "c689712b",
   "metadata": {
    "execution": {
     "iopub.execute_input": "2023-11-21T10:30:31.039971Z",
     "iopub.status.busy": "2023-11-21T10:30:31.039349Z",
     "iopub.status.idle": "2023-11-21T10:30:31.081823Z",
     "shell.execute_reply": "2023-11-21T10:30:31.080793Z"
    },
    "papermill": {
     "duration": 0.056125,
     "end_time": "2023-11-21T10:30:31.085329",
     "exception": false,
     "start_time": "2023-11-21T10:30:31.029204",
     "status": "completed"
    },
    "tags": []
   },
   "outputs": [
    {
     "data": {
      "text/html": [
       "<div>\n",
       "<style scoped>\n",
       "    .dataframe tbody tr th:only-of-type {\n",
       "        vertical-align: middle;\n",
       "    }\n",
       "\n",
       "    .dataframe tbody tr th {\n",
       "        vertical-align: top;\n",
       "    }\n",
       "\n",
       "    .dataframe thead th {\n",
       "        text-align: right;\n",
       "    }\n",
       "</style>\n",
       "<table border=\"1\" class=\"dataframe\">\n",
       "  <thead>\n",
       "    <tr style=\"text-align: right;\">\n",
       "      <th></th>\n",
       "      <th>series_id</th>\n",
       "      <th>step</th>\n",
       "      <th>timestamp</th>\n",
       "      <th>anglez</th>\n",
       "      <th>enmo</th>\n",
       "      <th>ts</th>\n",
       "    </tr>\n",
       "  </thead>\n",
       "  <tbody>\n",
       "    <tr>\n",
       "      <th>0</th>\n",
       "      <td>038441c925bb</td>\n",
       "      <td>0</td>\n",
       "      <td>2018-08-14T15:30:00-0400</td>\n",
       "      <td>2.6367</td>\n",
       "      <td>0.0217</td>\n",
       "      <td>1.534275e+09</td>\n",
       "    </tr>\n",
       "    <tr>\n",
       "      <th>1</th>\n",
       "      <td>038441c925bb</td>\n",
       "      <td>1</td>\n",
       "      <td>2018-08-14T15:30:05-0400</td>\n",
       "      <td>2.6368</td>\n",
       "      <td>0.0215</td>\n",
       "      <td>1.534275e+09</td>\n",
       "    </tr>\n",
       "    <tr>\n",
       "      <th>2</th>\n",
       "      <td>038441c925bb</td>\n",
       "      <td>2</td>\n",
       "      <td>2018-08-14T15:30:10-0400</td>\n",
       "      <td>2.6370</td>\n",
       "      <td>0.0216</td>\n",
       "      <td>1.534275e+09</td>\n",
       "    </tr>\n",
       "    <tr>\n",
       "      <th>3</th>\n",
       "      <td>038441c925bb</td>\n",
       "      <td>3</td>\n",
       "      <td>2018-08-14T15:30:15-0400</td>\n",
       "      <td>2.6368</td>\n",
       "      <td>0.0213</td>\n",
       "      <td>1.534275e+09</td>\n",
       "    </tr>\n",
       "    <tr>\n",
       "      <th>4</th>\n",
       "      <td>038441c925bb</td>\n",
       "      <td>4</td>\n",
       "      <td>2018-08-14T15:30:20-0400</td>\n",
       "      <td>2.6368</td>\n",
       "      <td>0.0215</td>\n",
       "      <td>1.534275e+09</td>\n",
       "    </tr>\n",
       "  </tbody>\n",
       "</table>\n",
       "</div>"
      ],
      "text/plain": [
       "      series_id  step                 timestamp  anglez    enmo            ts\n",
       "0  038441c925bb     0  2018-08-14T15:30:00-0400  2.6367  0.0217  1.534275e+09\n",
       "1  038441c925bb     1  2018-08-14T15:30:05-0400  2.6368  0.0215  1.534275e+09\n",
       "2  038441c925bb     2  2018-08-14T15:30:10-0400  2.6370  0.0216  1.534275e+09\n",
       "3  038441c925bb     3  2018-08-14T15:30:15-0400  2.6368  0.0213  1.534275e+09\n",
       "4  038441c925bb     4  2018-08-14T15:30:20-0400  2.6368  0.0215  1.534275e+09"
      ]
     },
     "execution_count": 6,
     "metadata": {},
     "output_type": "execute_result"
    }
   ],
   "source": [
    "df.head()                                                                                                                                                                                                                                                                                                                                                                                                                                                                                                                                                                                                                                                                                                                                                                                                                                                                                                                                                                                                                                                                                                                                                                                                                                      "
   ]
  },
  {
   "cell_type": "code",
   "execution_count": 7,
   "id": "7f6de7b5",
   "metadata": {
    "execution": {
     "iopub.execute_input": "2023-11-21T10:30:31.100672Z",
     "iopub.status.busy": "2023-11-21T10:30:31.100251Z",
     "iopub.status.idle": "2023-11-21T10:33:07.588021Z",
     "shell.execute_reply": "2023-11-21T10:33:07.586775Z"
    },
    "papermill": {
     "duration": 156.506244,
     "end_time": "2023-11-21T10:33:07.598284",
     "exception": false,
     "start_time": "2023-11-21T10:30:31.092040",
     "status": "completed"
    },
    "tags": []
   },
   "outputs": [
    {
     "data": {
      "text/html": [
       "<div>\n",
       "<style scoped>\n",
       "    .dataframe tbody tr th:only-of-type {\n",
       "        vertical-align: middle;\n",
       "    }\n",
       "\n",
       "    .dataframe tbody tr th {\n",
       "        vertical-align: top;\n",
       "    }\n",
       "\n",
       "    .dataframe thead th {\n",
       "        text-align: right;\n",
       "    }\n",
       "</style>\n",
       "<table border=\"1\" class=\"dataframe\">\n",
       "  <thead>\n",
       "    <tr style=\"text-align: right;\">\n",
       "      <th></th>\n",
       "      <th>series_id</th>\n",
       "      <th>step</th>\n",
       "      <th>timestamp</th>\n",
       "      <th>anglez</th>\n",
       "      <th>enmo</th>\n",
       "      <th>ts</th>\n",
       "    </tr>\n",
       "  </thead>\n",
       "  <tbody>\n",
       "    <tr>\n",
       "      <th>0</th>\n",
       "      <td>038441c925bb</td>\n",
       "      <td>0</td>\n",
       "      <td>2018-08-14T15:30:00-0400</td>\n",
       "      <td>2.636700</td>\n",
       "      <td>0.0217</td>\n",
       "      <td>1.534275e+09</td>\n",
       "    </tr>\n",
       "    <tr>\n",
       "      <th>1</th>\n",
       "      <td>038441c925bb</td>\n",
       "      <td>1</td>\n",
       "      <td>2018-08-14T15:30:05-0400</td>\n",
       "      <td>2.636800</td>\n",
       "      <td>0.0215</td>\n",
       "      <td>1.534275e+09</td>\n",
       "    </tr>\n",
       "    <tr>\n",
       "      <th>2</th>\n",
       "      <td>038441c925bb</td>\n",
       "      <td>2</td>\n",
       "      <td>2018-08-14T15:30:10-0400</td>\n",
       "      <td>2.637000</td>\n",
       "      <td>0.0216</td>\n",
       "      <td>1.534275e+09</td>\n",
       "    </tr>\n",
       "    <tr>\n",
       "      <th>3</th>\n",
       "      <td>038441c925bb</td>\n",
       "      <td>3</td>\n",
       "      <td>2018-08-14T15:30:15-0400</td>\n",
       "      <td>2.636800</td>\n",
       "      <td>0.0213</td>\n",
       "      <td>1.534275e+09</td>\n",
       "    </tr>\n",
       "    <tr>\n",
       "      <th>4</th>\n",
       "      <td>038441c925bb</td>\n",
       "      <td>4</td>\n",
       "      <td>2018-08-14T15:30:20-0400</td>\n",
       "      <td>2.636800</td>\n",
       "      <td>0.0215</td>\n",
       "      <td>1.534275e+09</td>\n",
       "    </tr>\n",
       "    <tr>\n",
       "      <th>...</th>\n",
       "      <td>...</td>\n",
       "      <td>...</td>\n",
       "      <td>...</td>\n",
       "      <td>...</td>\n",
       "      <td>...</td>\n",
       "      <td>...</td>\n",
       "    </tr>\n",
       "    <tr>\n",
       "      <th>127946335</th>\n",
       "      <td>fe90110788d2</td>\n",
       "      <td>592375</td>\n",
       "      <td>2017-09-08T00:14:35-0400</td>\n",
       "      <td>-27.277500</td>\n",
       "      <td>0.0204</td>\n",
       "      <td>1.504844e+09</td>\n",
       "    </tr>\n",
       "    <tr>\n",
       "      <th>127946336</th>\n",
       "      <td>fe90110788d2</td>\n",
       "      <td>592376</td>\n",
       "      <td>2017-09-08T00:14:40-0400</td>\n",
       "      <td>-27.032499</td>\n",
       "      <td>0.0233</td>\n",
       "      <td>1.504844e+09</td>\n",
       "    </tr>\n",
       "    <tr>\n",
       "      <th>127946337</th>\n",
       "      <td>fe90110788d2</td>\n",
       "      <td>592377</td>\n",
       "      <td>2017-09-08T00:14:45-0400</td>\n",
       "      <td>-26.841200</td>\n",
       "      <td>0.0202</td>\n",
       "      <td>1.504844e+09</td>\n",
       "    </tr>\n",
       "    <tr>\n",
       "      <th>127946338</th>\n",
       "      <td>fe90110788d2</td>\n",
       "      <td>592378</td>\n",
       "      <td>2017-09-08T00:14:50-0400</td>\n",
       "      <td>-26.723900</td>\n",
       "      <td>0.0199</td>\n",
       "      <td>1.504844e+09</td>\n",
       "    </tr>\n",
       "    <tr>\n",
       "      <th>127946339</th>\n",
       "      <td>fe90110788d2</td>\n",
       "      <td>592379</td>\n",
       "      <td>2017-09-08T00:14:55-0400</td>\n",
       "      <td>-31.521601</td>\n",
       "      <td>0.0205</td>\n",
       "      <td>1.504844e+09</td>\n",
       "    </tr>\n",
       "  </tbody>\n",
       "</table>\n",
       "<p>127946340 rows × 6 columns</p>\n",
       "</div>"
      ],
      "text/plain": [
       "              series_id    step                 timestamp     anglez    enmo  \\\n",
       "0          038441c925bb       0  2018-08-14T15:30:00-0400   2.636700  0.0217   \n",
       "1          038441c925bb       1  2018-08-14T15:30:05-0400   2.636800  0.0215   \n",
       "2          038441c925bb       2  2018-08-14T15:30:10-0400   2.637000  0.0216   \n",
       "3          038441c925bb       3  2018-08-14T15:30:15-0400   2.636800  0.0213   \n",
       "4          038441c925bb       4  2018-08-14T15:30:20-0400   2.636800  0.0215   \n",
       "...                 ...     ...                       ...        ...     ...   \n",
       "127946335  fe90110788d2  592375  2017-09-08T00:14:35-0400 -27.277500  0.0204   \n",
       "127946336  fe90110788d2  592376  2017-09-08T00:14:40-0400 -27.032499  0.0233   \n",
       "127946337  fe90110788d2  592377  2017-09-08T00:14:45-0400 -26.841200  0.0202   \n",
       "127946338  fe90110788d2  592378  2017-09-08T00:14:50-0400 -26.723900  0.0199   \n",
       "127946339  fe90110788d2  592379  2017-09-08T00:14:55-0400 -31.521601  0.0205   \n",
       "\n",
       "                     ts  \n",
       "0          1.534275e+09  \n",
       "1          1.534275e+09  \n",
       "2          1.534275e+09  \n",
       "3          1.534275e+09  \n",
       "4          1.534275e+09  \n",
       "...                 ...  \n",
       "127946335  1.504844e+09  \n",
       "127946336  1.504844e+09  \n",
       "127946337  1.504844e+09  \n",
       "127946338  1.504844e+09  \n",
       "127946339  1.504844e+09  \n",
       "\n",
       "[127946340 rows x 6 columns]"
      ]
     },
     "execution_count": 7,
     "metadata": {},
     "output_type": "execute_result"
    }
   ],
   "source": [
    "df.sort_values(by=['series_id', 'ts','step'])"
   ]
  },
  {
   "cell_type": "markdown",
   "id": "47e3e772",
   "metadata": {
    "papermill": {
     "duration": 0.006584,
     "end_time": "2023-11-21T10:33:07.611705",
     "exception": false,
     "start_time": "2023-11-21T10:33:07.605121",
     "status": "completed"
    },
    "tags": []
   },
   "source": [
    "## Investigating around onset event"
   ]
  },
  {
   "cell_type": "code",
   "execution_count": 8,
   "id": "a4fb1633",
   "metadata": {
    "execution": {
     "iopub.execute_input": "2023-11-21T10:33:07.629278Z",
     "iopub.status.busy": "2023-11-21T10:33:07.628172Z",
     "iopub.status.idle": "2023-11-21T10:33:56.337266Z",
     "shell.execute_reply": "2023-11-21T10:33:56.336050Z"
    },
    "papermill": {
     "duration": 48.725127,
     "end_time": "2023-11-21T10:33:56.344176",
     "exception": false,
     "start_time": "2023-11-21T10:33:07.619049",
     "status": "completed"
    },
    "tags": []
   },
   "outputs": [
    {
     "data": {
      "text/plain": [
       "4992   -78.690598\n",
       "Name: anglez, dtype: float32"
      ]
     },
     "execution_count": 8,
     "metadata": {},
     "output_type": "execute_result"
    }
   ],
   "source": [
    "df['anglez'][(df['series_id']=='038441c925bb') & (df['timestamp']==\"2018-08-14T22:26:00-0400\")]"
   ]
  },
  {
   "cell_type": "code",
   "execution_count": 9,
   "id": "616ba14e",
   "metadata": {
    "execution": {
     "iopub.execute_input": "2023-11-21T10:33:56.363922Z",
     "iopub.status.busy": "2023-11-21T10:33:56.363390Z",
     "iopub.status.idle": "2023-11-21T10:33:56.377771Z",
     "shell.execute_reply": "2023-11-21T10:33:56.375546Z"
    },
    "papermill": {
     "duration": 0.029482,
     "end_time": "2023-11-21T10:33:56.383447",
     "exception": false,
     "start_time": "2023-11-21T10:33:56.353965",
     "status": "completed"
    },
    "tags": []
   },
   "outputs": [
    {
     "name": "stdout",
     "output_type": "stream",
     "text": [
      "Mean enmo before Event:  0.05630563\n",
      "Mean enmo between Events:  0.01075366\n",
      "Time start:  2018-08-14T22:26:00-0400  Time End:  2018-08-15T06:41:00-0400\n",
      "Total Time Difference in hrs:  8.25\n"
     ]
    }
   ],
   "source": [
    "print(\"Mean enmo before Event: \",df['enmo'].loc[0:4992].mean())\n",
    "print(\"Mean enmo between Events: \",df['enmo'].loc[4992:10932].mean())\n",
    "print('Time start: ', df['timestamp'].loc[4992],\" Time End: \",df['timestamp'].loc[10932] )\n",
    "print(\"Total Time Difference in hrs: \", (df['ts'].loc[10932] - df['ts'].loc[4992])/3600)"
   ]
  },
  {
   "cell_type": "code",
   "execution_count": 10,
   "id": "ea448951",
   "metadata": {
    "execution": {
     "iopub.execute_input": "2023-11-21T10:33:56.404971Z",
     "iopub.status.busy": "2023-11-21T10:33:56.403685Z",
     "iopub.status.idle": "2023-11-21T10:33:56.434556Z",
     "shell.execute_reply": "2023-11-21T10:33:56.433623Z"
    },
    "papermill": {
     "duration": 0.043319,
     "end_time": "2023-11-21T10:33:56.437546",
     "exception": false,
     "start_time": "2023-11-21T10:33:56.394227",
     "status": "completed"
    },
    "tags": []
   },
   "outputs": [
    {
     "name": "stdout",
     "output_type": "stream",
     "text": [
      "         series_id  step                 timestamp     anglez    enmo  \\\n",
      "4942  038441c925bb  4942  2018-08-14T22:21:50-0400 -34.077801  0.0011   \n",
      "4943  038441c925bb  4943  2018-08-14T22:21:55-0400 -33.305199  0.0008   \n",
      "4944  038441c925bb  4944  2018-08-14T22:22:00-0400 -32.158001  0.0029   \n",
      "4945  038441c925bb  4945  2018-08-14T22:22:05-0400 -31.564501  0.0032   \n",
      "4946  038441c925bb  4946  2018-08-14T22:22:10-0400 -30.303699  0.0030   \n",
      "4947  038441c925bb  4947  2018-08-14T22:22:15-0400 -28.724199  0.0028   \n",
      "4948  038441c925bb  4948  2018-08-14T22:22:20-0400 -28.379601  0.0009   \n",
      "4949  038441c925bb  4949  2018-08-14T22:22:25-0400 -28.398001  0.0006   \n",
      "4950  038441c925bb  4950  2018-08-14T22:22:30-0400 -30.009899  0.0067   \n",
      "4951  038441c925bb  4951  2018-08-14T22:22:35-0400 -33.668499  0.0042   \n",
      "4952  038441c925bb  4952  2018-08-14T22:22:40-0400 -33.095100  0.0017   \n",
      "4953  038441c925bb  4953  2018-08-14T22:22:45-0400 -32.048401  0.0043   \n",
      "4954  038441c925bb  4954  2018-08-14T22:22:50-0400 -32.873299  0.0020   \n",
      "4955  038441c925bb  4955  2018-08-14T22:22:55-0400 -31.823601  0.0016   \n",
      "4956  038441c925bb  4956  2018-08-14T22:23:00-0400 -32.338200  0.0017   \n",
      "4957  038441c925bb  4957  2018-08-14T22:23:05-0400 -31.819000  0.0022   \n",
      "4958  038441c925bb  4958  2018-08-14T22:23:10-0400 -29.723301  0.0013   \n",
      "4959  038441c925bb  4959  2018-08-14T22:23:15-0400 -22.113899  0.0002   \n",
      "4960  038441c925bb  4960  2018-08-14T22:23:20-0400 -20.064800  0.0000   \n",
      "4961  038441c925bb  4961  2018-08-14T22:23:25-0400 -19.813999  0.0000   \n",
      "4962  038441c925bb  4962  2018-08-14T22:23:30-0400 -19.533899  0.0000   \n",
      "4963  038441c925bb  4963  2018-08-14T22:23:35-0400 -19.148199  0.0000   \n",
      "4964  038441c925bb  4964  2018-08-14T22:23:40-0400 -19.079800  0.0000   \n",
      "4965  038441c925bb  4965  2018-08-14T22:23:45-0400 -18.853001  0.0000   \n",
      "4966  038441c925bb  4966  2018-08-14T22:23:50-0400 -18.745399  0.0000   \n",
      "4967  038441c925bb  4967  2018-08-14T22:23:55-0400 -18.631201  0.0000   \n",
      "4968  038441c925bb  4968  2018-08-14T22:24:00-0400 -18.353600  0.0000   \n",
      "4969  038441c925bb  4969  2018-08-14T22:24:05-0400 -18.196699  0.0000   \n",
      "4970  038441c925bb  4970  2018-08-14T22:24:10-0400 -17.792101  0.0000   \n",
      "4971  038441c925bb  4971  2018-08-14T22:24:15-0400 -17.224701  0.0000   \n",
      "4972  038441c925bb  4972  2018-08-14T22:24:20-0400 -27.490000  0.0115   \n",
      "4973  038441c925bb  4973  2018-08-14T22:24:25-0400 -62.562302  0.0479   \n",
      "4974  038441c925bb  4974  2018-08-14T22:24:30-0400 -57.704899  0.0270   \n",
      "4975  038441c925bb  4975  2018-08-14T22:24:35-0400 -65.364098  0.0256   \n",
      "4976  038441c925bb  4976  2018-08-14T22:24:40-0400 -50.946701  0.0158   \n",
      "4977  038441c925bb  4977  2018-08-14T22:24:45-0400 -51.073799  0.0492   \n",
      "4978  038441c925bb  4978  2018-08-14T22:24:50-0400 -77.701599  0.0662   \n",
      "4979  038441c925bb  4979  2018-08-14T22:24:55-0400 -77.592499  0.0126   \n",
      "4980  038441c925bb  4980  2018-08-14T22:25:00-0400 -78.314003  0.0103   \n",
      "4981  038441c925bb  4981  2018-08-14T22:25:05-0400 -78.345596  0.0102   \n",
      "4982  038441c925bb  4982  2018-08-14T22:25:10-0400 -78.713600  0.0107   \n",
      "4983  038441c925bb  4983  2018-08-14T22:25:15-0400 -78.861603  0.0102   \n",
      "4984  038441c925bb  4984  2018-08-14T22:25:20-0400 -79.025101  0.0102   \n",
      "4985  038441c925bb  4985  2018-08-14T22:25:25-0400 -78.925201  0.0102   \n",
      "4986  038441c925bb  4986  2018-08-14T22:25:30-0400 -78.869499  0.0100   \n",
      "4987  038441c925bb  4987  2018-08-14T22:25:35-0400 -78.783600  0.0094   \n",
      "4988  038441c925bb  4988  2018-08-14T22:25:40-0400 -78.697403  0.0098   \n",
      "4989  038441c925bb  4989  2018-08-14T22:25:45-0400 -78.758102  0.0100   \n",
      "4990  038441c925bb  4990  2018-08-14T22:25:50-0400 -78.709801  0.0097   \n",
      "4991  038441c925bb  4991  2018-08-14T22:25:55-0400 -78.730301  0.0104   \n",
      "4992  038441c925bb  4992  2018-08-14T22:26:00-0400 -78.690598  0.0099   \n",
      "4993  038441c925bb  4993  2018-08-14T22:26:05-0400 -78.664902  0.0099   \n",
      "4994  038441c925bb  4994  2018-08-14T22:26:10-0400 -78.465897  0.0101   \n",
      "4995  038441c925bb  4995  2018-08-14T22:26:15-0400 -78.454597  0.0098   \n",
      "4996  038441c925bb  4996  2018-08-14T22:26:20-0400 -78.537804  0.0098   \n",
      "4997  038441c925bb  4997  2018-08-14T22:26:25-0400 -78.446999  0.0099   \n",
      "4998  038441c925bb  4998  2018-08-14T22:26:30-0400 -78.546501  0.0097   \n",
      "4999  038441c925bb  4999  2018-08-14T22:26:35-0400 -78.420998  0.0101   \n",
      "5000  038441c925bb  5000  2018-08-14T22:26:40-0400 -78.479301  0.0098   \n",
      "5001  038441c925bb  5001  2018-08-14T22:26:45-0400 -78.319298  0.0093   \n",
      "5002  038441c925bb  5002  2018-08-14T22:26:50-0400 -78.315300  0.0095   \n",
      "5003  038441c925bb  5003  2018-08-14T22:26:55-0400 -78.331299  0.0097   \n",
      "5004  038441c925bb  5004  2018-08-14T22:27:00-0400 -68.383598  0.0239   \n",
      "5005  038441c925bb  5005  2018-08-14T22:27:05-0400 -62.362900  0.0054   \n",
      "5006  038441c925bb  5006  2018-08-14T22:27:10-0400 -62.784100  0.0065   \n",
      "5007  038441c925bb  5007  2018-08-14T22:27:15-0400 -63.420502  0.0061   \n",
      "5008  038441c925bb  5008  2018-08-14T22:27:20-0400 -64.812202  0.0058   \n",
      "5009  038441c925bb  5009  2018-08-14T22:27:25-0400 -64.928902  0.0056   \n",
      "5010  038441c925bb  5010  2018-08-14T22:27:30-0400 -64.854500  0.0057   \n",
      "5011  038441c925bb  5011  2018-08-14T22:27:35-0400 -64.804901  0.0062   \n",
      "5012  038441c925bb  5012  2018-08-14T22:27:40-0400 -64.874603  0.0058   \n",
      "5013  038441c925bb  5013  2018-08-14T22:27:45-0400 -64.784401  0.0062   \n",
      "5014  038441c925bb  5014  2018-08-14T22:27:50-0400 -64.804901  0.0060   \n",
      "5015  038441c925bb  5015  2018-08-14T22:27:55-0400 -64.848297  0.0061   \n",
      "5016  038441c925bb  5016  2018-08-14T22:28:00-0400 -64.279602  0.0132   \n",
      "5017  038441c925bb  5017  2018-08-14T22:28:05-0400 -62.476398  0.0204   \n",
      "5018  038441c925bb  5018  2018-08-14T22:28:10-0400 -66.214500  0.0041   \n",
      "5019  038441c925bb  5019  2018-08-14T22:28:15-0400 -66.244499  0.0043   \n",
      "5020  038441c925bb  5020  2018-08-14T22:28:20-0400 -66.287697  0.0042   \n",
      "5021  038441c925bb  5021  2018-08-14T22:28:25-0400 -66.235901  0.0043   \n",
      "5022  038441c925bb  5022  2018-08-14T22:28:30-0400 -66.271400  0.0040   \n",
      "5023  038441c925bb  5023  2018-08-14T22:28:35-0400 -66.211502  0.0044   \n",
      "5024  038441c925bb  5024  2018-08-14T22:28:40-0400 -66.123901  0.0042   \n",
      "5025  038441c925bb  5025  2018-08-14T22:28:45-0400 -66.023903  0.0043   \n",
      "5026  038441c925bb  5026  2018-08-14T22:28:50-0400 -66.238899  0.0044   \n",
      "5027  038441c925bb  5027  2018-08-14T22:28:55-0400 -66.275497  0.0046   \n",
      "5028  038441c925bb  5028  2018-08-14T22:29:00-0400 -66.308403  0.0045   \n",
      "5029  038441c925bb  5029  2018-08-14T22:29:05-0400 -66.400002  0.0043   \n",
      "5030  038441c925bb  5030  2018-08-14T22:29:10-0400 -66.497704  0.0047   \n",
      "5031  038441c925bb  5031  2018-08-14T22:29:15-0400 -66.468201  0.0040   \n",
      "5032  038441c925bb  5032  2018-08-14T22:29:20-0400 -66.508301  0.0043   \n",
      "5033  038441c925bb  5033  2018-08-14T22:29:25-0400 -66.429199  0.0043   \n",
      "5034  038441c925bb  5034  2018-08-14T22:29:30-0400 -66.412804  0.0041   \n",
      "5035  038441c925bb  5035  2018-08-14T22:29:35-0400 -66.458397  0.0044   \n",
      "5036  038441c925bb  5036  2018-08-14T22:29:40-0400 -66.458397  0.0043   \n",
      "5037  038441c925bb  5037  2018-08-14T22:29:45-0400 -66.446602  0.0040   \n",
      "5038  038441c925bb  5038  2018-08-14T22:29:50-0400 -66.479599  0.0043   \n",
      "5039  038441c925bb  5039  2018-08-14T22:29:55-0400 -66.605598  0.0042   \n",
      "5040  038441c925bb  5040  2018-08-14T22:30:00-0400 -66.625099  0.0046   \n",
      "5041  038441c925bb  5041  2018-08-14T22:30:05-0400 -66.596298  0.0042   \n",
      "5042  038441c925bb  5042  2018-08-14T22:30:10-0400 -66.544098  0.0040   \n",
      "\n",
      "                ts  \n",
      "4942  1.534300e+09  \n",
      "4943  1.534300e+09  \n",
      "4944  1.534300e+09  \n",
      "4945  1.534300e+09  \n",
      "4946  1.534300e+09  \n",
      "4947  1.534300e+09  \n",
      "4948  1.534300e+09  \n",
      "4949  1.534300e+09  \n",
      "4950  1.534300e+09  \n",
      "4951  1.534300e+09  \n",
      "4952  1.534300e+09  \n",
      "4953  1.534300e+09  \n",
      "4954  1.534300e+09  \n",
      "4955  1.534300e+09  \n",
      "4956  1.534300e+09  \n",
      "4957  1.534300e+09  \n",
      "4958  1.534300e+09  \n",
      "4959  1.534300e+09  \n",
      "4960  1.534300e+09  \n",
      "4961  1.534300e+09  \n",
      "4962  1.534300e+09  \n",
      "4963  1.534300e+09  \n",
      "4964  1.534300e+09  \n",
      "4965  1.534300e+09  \n",
      "4966  1.534300e+09  \n",
      "4967  1.534300e+09  \n",
      "4968  1.534300e+09  \n",
      "4969  1.534300e+09  \n",
      "4970  1.534300e+09  \n",
      "4971  1.534300e+09  \n",
      "4972  1.534300e+09  \n",
      "4973  1.534300e+09  \n",
      "4974  1.534300e+09  \n",
      "4975  1.534300e+09  \n",
      "4976  1.534300e+09  \n",
      "4977  1.534300e+09  \n",
      "4978  1.534300e+09  \n",
      "4979  1.534300e+09  \n",
      "4980  1.534300e+09  \n",
      "4981  1.534300e+09  \n",
      "4982  1.534300e+09  \n",
      "4983  1.534300e+09  \n",
      "4984  1.534300e+09  \n",
      "4985  1.534300e+09  \n",
      "4986  1.534300e+09  \n",
      "4987  1.534300e+09  \n",
      "4988  1.534300e+09  \n",
      "4989  1.534300e+09  \n",
      "4990  1.534300e+09  \n",
      "4991  1.534300e+09  \n",
      "4992  1.534300e+09  \n",
      "4993  1.534300e+09  \n",
      "4994  1.534300e+09  \n",
      "4995  1.534300e+09  \n",
      "4996  1.534300e+09  \n",
      "4997  1.534300e+09  \n",
      "4998  1.534300e+09  \n",
      "4999  1.534300e+09  \n",
      "5000  1.534300e+09  \n",
      "5001  1.534300e+09  \n",
      "5002  1.534300e+09  \n",
      "5003  1.534300e+09  \n",
      "5004  1.534300e+09  \n",
      "5005  1.534300e+09  \n",
      "5006  1.534300e+09  \n",
      "5007  1.534300e+09  \n",
      "5008  1.534300e+09  \n",
      "5009  1.534300e+09  \n",
      "5010  1.534300e+09  \n",
      "5011  1.534300e+09  \n",
      "5012  1.534300e+09  \n",
      "5013  1.534300e+09  \n",
      "5014  1.534300e+09  \n",
      "5015  1.534300e+09  \n",
      "5016  1.534300e+09  \n",
      "5017  1.534300e+09  \n",
      "5018  1.534300e+09  \n",
      "5019  1.534300e+09  \n",
      "5020  1.534300e+09  \n",
      "5021  1.534300e+09  \n",
      "5022  1.534300e+09  \n",
      "5023  1.534300e+09  \n",
      "5024  1.534300e+09  \n",
      "5025  1.534300e+09  \n",
      "5026  1.534300e+09  \n",
      "5027  1.534300e+09  \n",
      "5028  1.534300e+09  \n",
      "5029  1.534300e+09  \n",
      "5030  1.534300e+09  \n",
      "5031  1.534300e+09  \n",
      "5032  1.534300e+09  \n",
      "5033  1.534300e+09  \n",
      "5034  1.534300e+09  \n",
      "5035  1.534300e+09  \n",
      "5036  1.534300e+09  \n",
      "5037  1.534300e+09  \n",
      "5038  1.534300e+09  \n",
      "5039  1.534300e+09  \n",
      "5040  1.534300e+09  \n",
      "5041  1.534300e+09  \n",
      "5042  1.534300e+09  \n"
     ]
    }
   ],
   "source": [
    "print(df.loc[(4992-50):(4992+50)])"
   ]
  },
  {
   "cell_type": "markdown",
   "id": "10497eaa",
   "metadata": {
    "papermill": {
     "duration": 0.007155,
     "end_time": "2023-11-21T10:33:56.453535",
     "exception": false,
     "start_time": "2023-11-21T10:33:56.446380",
     "status": "completed"
    },
    "tags": []
   },
   "source": [
    "## Investigating around wakeup event"
   ]
  },
  {
   "cell_type": "code",
   "execution_count": 11,
   "id": "380b0bad",
   "metadata": {
    "execution": {
     "iopub.execute_input": "2023-11-21T10:33:56.470684Z",
     "iopub.status.busy": "2023-11-21T10:33:56.469862Z",
     "iopub.status.idle": "2023-11-21T10:34:44.949337Z",
     "shell.execute_reply": "2023-11-21T10:34:44.948110Z"
    },
    "papermill": {
     "duration": 48.497789,
     "end_time": "2023-11-21T10:34:44.958638",
     "exception": false,
     "start_time": "2023-11-21T10:33:56.460849",
     "status": "completed"
    },
    "tags": []
   },
   "outputs": [
    {
     "data": {
      "text/plain": [
       "10932   -61.578201\n",
       "Name: anglez, dtype: float32"
      ]
     },
     "execution_count": 11,
     "metadata": {},
     "output_type": "execute_result"
    }
   ],
   "source": [
    "df['anglez'][(df['series_id']=='038441c925bb') & (df['timestamp']==\"2018-08-15T06:41:00-0400\")] #wakeup event recorded precisely at this time"
   ]
  },
  {
   "cell_type": "code",
   "execution_count": null,
   "id": "027d8387",
   "metadata": {
    "papermill": {
     "duration": 0.007532,
     "end_time": "2023-11-21T10:34:44.973874",
     "exception": false,
     "start_time": "2023-11-21T10:34:44.966342",
     "status": "completed"
    },
    "tags": []
   },
   "outputs": [],
   "source": []
  },
  {
   "cell_type": "code",
   "execution_count": 12,
   "id": "9dbfa557",
   "metadata": {
    "execution": {
     "iopub.execute_input": "2023-11-21T10:34:44.992098Z",
     "iopub.status.busy": "2023-11-21T10:34:44.991585Z",
     "iopub.status.idle": "2023-11-21T10:34:47.572006Z",
     "shell.execute_reply": "2023-11-21T10:34:47.570847Z"
    },
    "papermill": {
     "duration": 2.592941,
     "end_time": "2023-11-21T10:34:47.574920",
     "exception": false,
     "start_time": "2023-11-21T10:34:44.981979",
     "status": "completed"
    },
    "tags": []
   },
   "outputs": [
    {
     "data": {
      "text/html": [
       "        <script type=\"text/javascript\">\n",
       "        window.PlotlyConfig = {MathJaxConfig: 'local'};\n",
       "        if (window.MathJax && window.MathJax.Hub && window.MathJax.Hub.Config) {window.MathJax.Hub.Config({SVG: {font: \"STIX-Web\"}});}\n",
       "        if (typeof require !== 'undefined') {\n",
       "        require.undef(\"plotly\");\n",
       "        requirejs.config({\n",
       "            paths: {\n",
       "                'plotly': ['https://cdn.plot.ly/plotly-2.25.2.min']\n",
       "            }\n",
       "        });\n",
       "        require(['plotly'], function(Plotly) {\n",
       "            window._Plotly = Plotly;\n",
       "        });\n",
       "        }\n",
       "        </script>\n",
       "        "
      ]
     },
     "metadata": {},
     "output_type": "display_data"
    },
    {
     "data": {
      "text/html": [
       "<div>                            <div id=\"b4f06602-ab89-4578-9763-2a5982e7e07e\" class=\"plotly-graph-div\" style=\"height:525px; width:100%;\"></div>            <script type=\"text/javascript\">                require([\"plotly\"], function(Plotly) {                    window.PLOTLYENV=window.PLOTLYENV || {};                                    if (document.getElementById(\"b4f06602-ab89-4578-9763-2a5982e7e07e\")) {                    Plotly.newPlot(                        \"b4f06602-ab89-4578-9763-2a5982e7e07e\",                        [{\"hovertemplate\":\"x=%{x}\\u003cbr\\u003ey=%{y}\\u003cextra\\u003e\\u003c\\u002fextra\\u003e\",\"legendgroup\":\"\",\"line\":{\"color\":\"#636efa\",\"dash\":\"solid\"},\"marker\":{\"symbol\":\"circle\"},\"mode\":\"lines\",\"name\":\"\",\"orientation\":\"v\",\"showlegend\":false,\"x\":[10882,10883,10884,10885,10886,10887,10888,10889,10890,10891,10892,10893,10894,10895,10896,10897,10898,10899,10900,10901,10902,10903,10904,10905,10906,10907,10908,10909,10910,10911,10912,10913,10914,10915,10916,10917,10918,10919,10920,10921,10922,10923,10924,10925,10926,10927,10928,10929,10930,10931,10932,10933,10934,10935,10936,10937,10938,10939,10940,10941,10942,10943,10944,10945,10946,10947,10948,10949,10950,10951,10952,10953,10954,10955,10956,10957,10958,10959,10960,10961,10962,10963,10964,10965,10966,10967,10968,10969,10970,10971,10972,10973,10974,10975,10976,10977,10978,10979,10980,10981,10982],\"xaxis\":\"x\",\"y\":[-62.7358,-62.7358,-62.7358,-62.7743,-63.0451,-63.0632,-62.935,-63.0275,-63.0632,-63.0632,-63.0513,-62.9142,-62.9142,-62.938,-62.941,-62.941,-62.9142,-62.8785,-63.1515,-63.1779,-63.1111,-63.0352,-63.1749,-63.1779,-63.1749,-63.0534,-63.0564,-63.1779,-63.1081,-63.1925,-63.139,-63.0287,-63.122,-63.1557,-63.1288,-63.0961,-63.1557,-63.1557,-63.1557,-63.264,-63.2626,-63.22,-63.3268,-63.3039,-63.1736,-63.3469,-63.1985,-63.105,-58.1771,-61.4375,-61.5782,-61.7443,-61.7864,-61.7572,-61.7762,-61.8037,-61.8937,-61.8781,-61.9681,-61.9681,-61.9094,-61.9642,-61.9103,-55.5694,-63.3121,-65.1965,-65.2,-59.9555,-26.9709,-26.7683,-34.8409,-34.8667,-34.9245,-34.8306,-34.881,-34.9028,-34.9729,-36.8592,-36.6799,-34.2723,-33.002,-34.5676,-34.6199,-34.549,-30.8681,-22.7038,59.2465,82.475,84.0871,83.9128,78.4522,77.1362,48.4385,-33.6119,-37.8481,-39.0103,-50.2341,-50.4967,-49.6293,-24.9089,-49.6641],\"yaxis\":\"y\",\"type\":\"scatter\"}],                        {\"template\":{\"data\":{\"histogram2dcontour\":[{\"type\":\"histogram2dcontour\",\"colorbar\":{\"outlinewidth\":0,\"ticks\":\"\"},\"colorscale\":[[0.0,\"#0d0887\"],[0.1111111111111111,\"#46039f\"],[0.2222222222222222,\"#7201a8\"],[0.3333333333333333,\"#9c179e\"],[0.4444444444444444,\"#bd3786\"],[0.5555555555555556,\"#d8576b\"],[0.6666666666666666,\"#ed7953\"],[0.7777777777777778,\"#fb9f3a\"],[0.8888888888888888,\"#fdca26\"],[1.0,\"#f0f921\"]]}],\"choropleth\":[{\"type\":\"choropleth\",\"colorbar\":{\"outlinewidth\":0,\"ticks\":\"\"}}],\"histogram2d\":[{\"type\":\"histogram2d\",\"colorbar\":{\"outlinewidth\":0,\"ticks\":\"\"},\"colorscale\":[[0.0,\"#0d0887\"],[0.1111111111111111,\"#46039f\"],[0.2222222222222222,\"#7201a8\"],[0.3333333333333333,\"#9c179e\"],[0.4444444444444444,\"#bd3786\"],[0.5555555555555556,\"#d8576b\"],[0.6666666666666666,\"#ed7953\"],[0.7777777777777778,\"#fb9f3a\"],[0.8888888888888888,\"#fdca26\"],[1.0,\"#f0f921\"]]}],\"heatmap\":[{\"type\":\"heatmap\",\"colorbar\":{\"outlinewidth\":0,\"ticks\":\"\"},\"colorscale\":[[0.0,\"#0d0887\"],[0.1111111111111111,\"#46039f\"],[0.2222222222222222,\"#7201a8\"],[0.3333333333333333,\"#9c179e\"],[0.4444444444444444,\"#bd3786\"],[0.5555555555555556,\"#d8576b\"],[0.6666666666666666,\"#ed7953\"],[0.7777777777777778,\"#fb9f3a\"],[0.8888888888888888,\"#fdca26\"],[1.0,\"#f0f921\"]]}],\"heatmapgl\":[{\"type\":\"heatmapgl\",\"colorbar\":{\"outlinewidth\":0,\"ticks\":\"\"},\"colorscale\":[[0.0,\"#0d0887\"],[0.1111111111111111,\"#46039f\"],[0.2222222222222222,\"#7201a8\"],[0.3333333333333333,\"#9c179e\"],[0.4444444444444444,\"#bd3786\"],[0.5555555555555556,\"#d8576b\"],[0.6666666666666666,\"#ed7953\"],[0.7777777777777778,\"#fb9f3a\"],[0.8888888888888888,\"#fdca26\"],[1.0,\"#f0f921\"]]}],\"contourcarpet\":[{\"type\":\"contourcarpet\",\"colorbar\":{\"outlinewidth\":0,\"ticks\":\"\"}}],\"contour\":[{\"type\":\"contour\",\"colorbar\":{\"outlinewidth\":0,\"ticks\":\"\"},\"colorscale\":[[0.0,\"#0d0887\"],[0.1111111111111111,\"#46039f\"],[0.2222222222222222,\"#7201a8\"],[0.3333333333333333,\"#9c179e\"],[0.4444444444444444,\"#bd3786\"],[0.5555555555555556,\"#d8576b\"],[0.6666666666666666,\"#ed7953\"],[0.7777777777777778,\"#fb9f3a\"],[0.8888888888888888,\"#fdca26\"],[1.0,\"#f0f921\"]]}],\"surface\":[{\"type\":\"surface\",\"colorbar\":{\"outlinewidth\":0,\"ticks\":\"\"},\"colorscale\":[[0.0,\"#0d0887\"],[0.1111111111111111,\"#46039f\"],[0.2222222222222222,\"#7201a8\"],[0.3333333333333333,\"#9c179e\"],[0.4444444444444444,\"#bd3786\"],[0.5555555555555556,\"#d8576b\"],[0.6666666666666666,\"#ed7953\"],[0.7777777777777778,\"#fb9f3a\"],[0.8888888888888888,\"#fdca26\"],[1.0,\"#f0f921\"]]}],\"mesh3d\":[{\"type\":\"mesh3d\",\"colorbar\":{\"outlinewidth\":0,\"ticks\":\"\"}}],\"scatter\":[{\"fillpattern\":{\"fillmode\":\"overlay\",\"size\":10,\"solidity\":0.2},\"type\":\"scatter\"}],\"parcoords\":[{\"type\":\"parcoords\",\"line\":{\"colorbar\":{\"outlinewidth\":0,\"ticks\":\"\"}}}],\"scatterpolargl\":[{\"type\":\"scatterpolargl\",\"marker\":{\"colorbar\":{\"outlinewidth\":0,\"ticks\":\"\"}}}],\"bar\":[{\"error_x\":{\"color\":\"#2a3f5f\"},\"error_y\":{\"color\":\"#2a3f5f\"},\"marker\":{\"line\":{\"color\":\"#E5ECF6\",\"width\":0.5},\"pattern\":{\"fillmode\":\"overlay\",\"size\":10,\"solidity\":0.2}},\"type\":\"bar\"}],\"scattergeo\":[{\"type\":\"scattergeo\",\"marker\":{\"colorbar\":{\"outlinewidth\":0,\"ticks\":\"\"}}}],\"scatterpolar\":[{\"type\":\"scatterpolar\",\"marker\":{\"colorbar\":{\"outlinewidth\":0,\"ticks\":\"\"}}}],\"histogram\":[{\"marker\":{\"pattern\":{\"fillmode\":\"overlay\",\"size\":10,\"solidity\":0.2}},\"type\":\"histogram\"}],\"scattergl\":[{\"type\":\"scattergl\",\"marker\":{\"colorbar\":{\"outlinewidth\":0,\"ticks\":\"\"}}}],\"scatter3d\":[{\"type\":\"scatter3d\",\"line\":{\"colorbar\":{\"outlinewidth\":0,\"ticks\":\"\"}},\"marker\":{\"colorbar\":{\"outlinewidth\":0,\"ticks\":\"\"}}}],\"scattermapbox\":[{\"type\":\"scattermapbox\",\"marker\":{\"colorbar\":{\"outlinewidth\":0,\"ticks\":\"\"}}}],\"scatterternary\":[{\"type\":\"scatterternary\",\"marker\":{\"colorbar\":{\"outlinewidth\":0,\"ticks\":\"\"}}}],\"scattercarpet\":[{\"type\":\"scattercarpet\",\"marker\":{\"colorbar\":{\"outlinewidth\":0,\"ticks\":\"\"}}}],\"carpet\":[{\"aaxis\":{\"endlinecolor\":\"#2a3f5f\",\"gridcolor\":\"white\",\"linecolor\":\"white\",\"minorgridcolor\":\"white\",\"startlinecolor\":\"#2a3f5f\"},\"baxis\":{\"endlinecolor\":\"#2a3f5f\",\"gridcolor\":\"white\",\"linecolor\":\"white\",\"minorgridcolor\":\"white\",\"startlinecolor\":\"#2a3f5f\"},\"type\":\"carpet\"}],\"table\":[{\"cells\":{\"fill\":{\"color\":\"#EBF0F8\"},\"line\":{\"color\":\"white\"}},\"header\":{\"fill\":{\"color\":\"#C8D4E3\"},\"line\":{\"color\":\"white\"}},\"type\":\"table\"}],\"barpolar\":[{\"marker\":{\"line\":{\"color\":\"#E5ECF6\",\"width\":0.5},\"pattern\":{\"fillmode\":\"overlay\",\"size\":10,\"solidity\":0.2}},\"type\":\"barpolar\"}],\"pie\":[{\"automargin\":true,\"type\":\"pie\"}]},\"layout\":{\"autotypenumbers\":\"strict\",\"colorway\":[\"#636efa\",\"#EF553B\",\"#00cc96\",\"#ab63fa\",\"#FFA15A\",\"#19d3f3\",\"#FF6692\",\"#B6E880\",\"#FF97FF\",\"#FECB52\"],\"font\":{\"color\":\"#2a3f5f\"},\"hovermode\":\"closest\",\"hoverlabel\":{\"align\":\"left\"},\"paper_bgcolor\":\"white\",\"plot_bgcolor\":\"#E5ECF6\",\"polar\":{\"bgcolor\":\"#E5ECF6\",\"angularaxis\":{\"gridcolor\":\"white\",\"linecolor\":\"white\",\"ticks\":\"\"},\"radialaxis\":{\"gridcolor\":\"white\",\"linecolor\":\"white\",\"ticks\":\"\"}},\"ternary\":{\"bgcolor\":\"#E5ECF6\",\"aaxis\":{\"gridcolor\":\"white\",\"linecolor\":\"white\",\"ticks\":\"\"},\"baxis\":{\"gridcolor\":\"white\",\"linecolor\":\"white\",\"ticks\":\"\"},\"caxis\":{\"gridcolor\":\"white\",\"linecolor\":\"white\",\"ticks\":\"\"}},\"coloraxis\":{\"colorbar\":{\"outlinewidth\":0,\"ticks\":\"\"}},\"colorscale\":{\"sequential\":[[0.0,\"#0d0887\"],[0.1111111111111111,\"#46039f\"],[0.2222222222222222,\"#7201a8\"],[0.3333333333333333,\"#9c179e\"],[0.4444444444444444,\"#bd3786\"],[0.5555555555555556,\"#d8576b\"],[0.6666666666666666,\"#ed7953\"],[0.7777777777777778,\"#fb9f3a\"],[0.8888888888888888,\"#fdca26\"],[1.0,\"#f0f921\"]],\"sequentialminus\":[[0.0,\"#0d0887\"],[0.1111111111111111,\"#46039f\"],[0.2222222222222222,\"#7201a8\"],[0.3333333333333333,\"#9c179e\"],[0.4444444444444444,\"#bd3786\"],[0.5555555555555556,\"#d8576b\"],[0.6666666666666666,\"#ed7953\"],[0.7777777777777778,\"#fb9f3a\"],[0.8888888888888888,\"#fdca26\"],[1.0,\"#f0f921\"]],\"diverging\":[[0,\"#8e0152\"],[0.1,\"#c51b7d\"],[0.2,\"#de77ae\"],[0.3,\"#f1b6da\"],[0.4,\"#fde0ef\"],[0.5,\"#f7f7f7\"],[0.6,\"#e6f5d0\"],[0.7,\"#b8e186\"],[0.8,\"#7fbc41\"],[0.9,\"#4d9221\"],[1,\"#276419\"]]},\"xaxis\":{\"gridcolor\":\"white\",\"linecolor\":\"white\",\"ticks\":\"\",\"title\":{\"standoff\":15},\"zerolinecolor\":\"white\",\"automargin\":true,\"zerolinewidth\":2},\"yaxis\":{\"gridcolor\":\"white\",\"linecolor\":\"white\",\"ticks\":\"\",\"title\":{\"standoff\":15},\"zerolinecolor\":\"white\",\"automargin\":true,\"zerolinewidth\":2},\"scene\":{\"xaxis\":{\"backgroundcolor\":\"#E5ECF6\",\"gridcolor\":\"white\",\"linecolor\":\"white\",\"showbackground\":true,\"ticks\":\"\",\"zerolinecolor\":\"white\",\"gridwidth\":2},\"yaxis\":{\"backgroundcolor\":\"#E5ECF6\",\"gridcolor\":\"white\",\"linecolor\":\"white\",\"showbackground\":true,\"ticks\":\"\",\"zerolinecolor\":\"white\",\"gridwidth\":2},\"zaxis\":{\"backgroundcolor\":\"#E5ECF6\",\"gridcolor\":\"white\",\"linecolor\":\"white\",\"showbackground\":true,\"ticks\":\"\",\"zerolinecolor\":\"white\",\"gridwidth\":2}},\"shapedefaults\":{\"line\":{\"color\":\"#2a3f5f\"}},\"annotationdefaults\":{\"arrowcolor\":\"#2a3f5f\",\"arrowhead\":0,\"arrowwidth\":1},\"geo\":{\"bgcolor\":\"white\",\"landcolor\":\"#E5ECF6\",\"subunitcolor\":\"white\",\"showland\":true,\"showlakes\":true,\"lakecolor\":\"white\"},\"title\":{\"x\":0.05},\"mapbox\":{\"style\":\"light\"}}},\"xaxis\":{\"anchor\":\"y\",\"domain\":[0.0,1.0],\"title\":{\"text\":\"x\"}},\"yaxis\":{\"anchor\":\"x\",\"domain\":[0.0,1.0],\"title\":{\"text\":\"y\"}},\"legend\":{\"tracegroupgap\":0},\"margin\":{\"t\":60}},                        {\"responsive\": true}                    ).then(function(){\n",
       "                            \n",
       "var gd = document.getElementById('b4f06602-ab89-4578-9763-2a5982e7e07e');\n",
       "var x = new MutationObserver(function (mutations, observer) {{\n",
       "        var display = window.getComputedStyle(gd).display;\n",
       "        if (!display || display === 'none') {{\n",
       "            console.log([gd, 'removed!']);\n",
       "            Plotly.purge(gd);\n",
       "            observer.disconnect();\n",
       "        }}\n",
       "}});\n",
       "\n",
       "// Listen for the removal of the full notebook cells\n",
       "var notebookContainer = gd.closest('#notebook-container');\n",
       "if (notebookContainer) {{\n",
       "    x.observe(notebookContainer, {childList: true});\n",
       "}}\n",
       "\n",
       "// Listen for the clearing of the current output cell\n",
       "var outputEl = gd.closest('.output');\n",
       "if (outputEl) {{\n",
       "    x.observe(outputEl, {childList: true});\n",
       "}}\n",
       "\n",
       "                        })                };                });            </script>        </div>"
      ]
     },
     "metadata": {},
     "output_type": "display_data"
    }
   ],
   "source": [
    "px.line(x=df['step'].loc[10932-50:10932+50], y=df['anglez'].loc[10932-50:10932+50])"
   ]
  },
  {
   "cell_type": "code",
   "execution_count": 13,
   "id": "9665adfa",
   "metadata": {
    "execution": {
     "iopub.execute_input": "2023-11-21T10:34:47.594632Z",
     "iopub.status.busy": "2023-11-21T10:34:47.594139Z",
     "iopub.status.idle": "2023-11-21T10:34:47.917284Z",
     "shell.execute_reply": "2023-11-21T10:34:47.916060Z"
    },
    "papermill": {
     "duration": 0.336094,
     "end_time": "2023-11-21T10:34:47.920208",
     "exception": false,
     "start_time": "2023-11-21T10:34:47.584114",
     "status": "completed"
    },
    "tags": []
   },
   "outputs": [
    {
     "data": {
      "text/plain": [
       "[<matplotlib.lines.Line2D at 0x79fce0f86a40>]"
      ]
     },
     "execution_count": 13,
     "metadata": {},
     "output_type": "execute_result"
    },
    {
     "data": {
      "image/png": "[encoded data removed]",
      "text/plain": [
       "<Figure size 640x480 with 1 Axes>"
      ]
     },
     "metadata": {},
     "output_type": "display_data"
    }
   ],
   "source": [
    "plt.plot(df['step'].loc[10932-50:10932+50], df['enmo'].loc[10932-50:10932+50])"
   ]
  }
 ],
 "metadata": {
  "kaggle": {
   "accelerator": "none",
   "dataSources": [
    {
     "databundleVersionId": 6589269,
     "sourceId": 53666,
     "sourceType": "competition"
    },
    {
     "datasetId": 4034388,
     "sourceId": 7016792,
     "sourceType": "datasetVersion"
    }
   ],
   "dockerImageVersionId": 30587,
   "isGpuEnabled": false,
   "isInternetEnabled": true,
   "language": "python",
   "sourceType": "notebook"
  },
  "kernelspec": {
   "display_name": "Python 3",
   "language": "python",
   "name": "python3"
  },
  "language_info": {
   "codemirror_mode": {
    "name": "ipython",
    "version": 3
   },
   "file_extension": ".py",
   "mimetype": "text/x-python",
   "name": "python",
   "nbconvert_exporter": "python",
   "pygments_lexer": "ipython3",
   "version": "3.10.12"
  },
  "papermill": {
   "default_parameters": {},
   "duration": 3843.502316,
   "end_time": "2023-11-21T10:34:50.762272",
   "environment_variables": {},
   "exception": null,
   "input_path": "__notebook__.ipynb",
   "output_path": "__notebook__.ipynb",
   "parameters": {},
   "start_time": "2023-11-21T09:30:47.259956",
   "version": "2.4.0"
  }
 },
 "nbformat": 4,
 "nbformat_minor": 5
}
